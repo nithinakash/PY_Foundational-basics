{
 "cells": [
  {
   "cell_type": "markdown",
   "metadata": {},
   "source": [
    "# Basic Exercises on Data Importing - Understanding - Manipulating - Analysis - Visualization"
   ]
  },
  {
   "cell_type": "markdown",
   "metadata": {},
   "source": [
    "## Section-1: The pupose of the below exercises (1-7) is to create dictionary and convert into dataframes, how to diplay etc...\n",
    "## The below exercises required to create data "
   ]
  },
  {
   "cell_type": "markdown",
   "metadata": {},
   "source": [
    "### 1. Import the necessary libraries (pandas, numpy, datetime, re etc)"
   ]
  },
  {
   "cell_type": "code",
   "execution_count": 2,
   "metadata": {},
   "outputs": [],
   "source": [
    "import pandas as pd\n",
    "import numpy as np\n",
    "import matplotlib.pyplot as plt\n",
    "import datetime as dt\n",
    "import seaborn as sns\n",
    "import re\n",
    "\n",
    "# set the graphs to show in the jupyter notebook\n",
    "%matplotlib inline\n",
    "\n",
    "# set seabor graphs to a better style\n",
    "sns.set(style=\"ticks\")"
   ]
  },
  {
   "cell_type": "markdown",
   "metadata": {},
   "source": [
    "### 2. Run the below line of code to create a dictionary and this will be used for below exercises"
   ]
  },
  {
   "cell_type": "code",
   "execution_count": null,
   "metadata": {},
   "outputs": [],
   "source": [
    "raw_data = {\"name\": ['Bulbasaur', 'Charmander','Squirtle','Caterpie'],\n",
    "            \"evolution\": ['Ivysaur','Charmeleon','Wartortle','Metapod'],\n",
    "            \"type\": ['grass', 'fire', 'water', 'bug'],\n",
    "            \"hp\": [45, 39, 44, 45],\n",
    "            \"pokedex\": ['yes', 'no','yes','no']                        \n",
    "            }"
   ]
  },
  {
   "cell_type": "markdown",
   "metadata": {},
   "source": [
    "### 3. Assign it to a object called pokemon and it should be a pandas DataFrame"
   ]
  },
  {
   "cell_type": "code",
   "execution_count": null,
   "metadata": {},
   "outputs": [],
   "source": [
    "pokemon = pd.DataFrame(raw_data)"
   ]
  },
  {
   "cell_type": "markdown",
   "metadata": {},
   "source": [
    "### 4. If the DataFrame columns are in alphabetical order, change the order of the columns as name, type, hp, evolution, evolution"
   ]
  },
  {
   "cell_type": "code",
   "execution_count": null,
   "metadata": {},
   "outputs": [],
   "source": [
    "pokemon = pokemon.iloc[:,[0,2,3,1,4]]"
   ]
  },
  {
   "cell_type": "markdown",
   "metadata": {},
   "source": [
    "### 5. Add another column called place, and insert places (lakes, parks, hills, forest etc) of your choice."
   ]
  },
  {
   "cell_type": "code",
   "execution_count": null,
   "metadata": {},
   "outputs": [],
   "source": [
    "pokemon.loc[:,'place'] = ['lakes', 'parks', 'hills', 'forest']"
   ]
  },
  {
   "cell_type": "markdown",
   "metadata": {},
   "source": [
    "### 6. Display the data type of each column"
   ]
  },
  {
   "cell_type": "code",
   "execution_count": null,
   "metadata": {},
   "outputs": [],
   "source": [
    "pokemon.dtypes"
   ]
  },
  {
   "cell_type": "markdown",
   "metadata": {},
   "source": [
    "### 7. Display the info of dataframe"
   ]
  },
  {
   "cell_type": "code",
   "execution_count": null,
   "metadata": {},
   "outputs": [],
   "source": [
    "pokemon.info"
   ]
  },
  {
   "cell_type": "markdown",
   "metadata": {},
   "source": [
    "## Section-2: The pupose of the below exercise (8-20) is to understand deleting data with pandas.\n",
    "## The below exercises required to use wine.data"
   ]
  },
  {
   "cell_type": "markdown",
   "metadata": {},
   "source": [
    "### 8. Import the dataset *wine.txt* from the folder and assign it to a object called wine\n",
    "\n",
    "Please note that the original data text file doesn't contain any header. Please ensure that when you import the data, you should use a suitable argument so as to avoid data getting imported as header."
   ]
  },
  {
   "cell_type": "code",
   "execution_count": null,
   "metadata": {},
   "outputs": [],
   "source": [
    "wine = pd.read_csv('C:/Users/Nithin/Downloads/Basic Data Manipulation - Visualization Exercise 2/Exercise Data Files/wine.txt')"
   ]
  },
  {
   "cell_type": "markdown",
   "metadata": {},
   "source": [
    "### 9. Delete the first, fourth, seventh, nineth, eleventh, thirteenth and fourteenth columns"
   ]
  },
  {
   "cell_type": "code",
   "execution_count": null,
   "metadata": {},
   "outputs": [],
   "source": [
    "wine.drop(wine.columns[[0,3,6,8,10,12]],axis = 1, inplace = True)"
   ]
  },
  {
   "cell_type": "markdown",
   "metadata": {},
   "source": [
    "### 10. Assign the columns as below:\n",
    "\n",
    "The attributes are (dontated by Riccardo Leardi, riclea '@' anchem.unige.it):  \n",
    "1) alcohol  \n",
    "2) malic_acid  \n",
    "3) alcalinity_of_ash  \n",
    "4) magnesium  \n",
    "5) flavanoids  \n",
    "6) proanthocyanins  \n",
    "7) hue "
   ]
  },
  {
   "cell_type": "code",
   "execution_count": null,
   "metadata": {},
   "outputs": [],
   "source": [
    "wine[['alcohol','malic_acid','alcalinity_of_ash','magnesium','flavanoids','proanthocyanins','hue']] = ''"
   ]
  },
  {
   "cell_type": "markdown",
   "metadata": {},
   "source": [
    "### 11. Set the values of the first 3 values from alcohol column as NaN"
   ]
  },
  {
   "cell_type": "code",
   "execution_count": null,
   "metadata": {},
   "outputs": [],
   "source": [
    "wine.loc[0:2,'alcohol'] = np.nan"
   ]
  },
  {
   "cell_type": "markdown",
   "metadata": {},
   "source": [
    "### 12. Now set the value of the rows 3 and 4 of magnesium as NaN"
   ]
  },
  {
   "cell_type": "code",
   "execution_count": null,
   "metadata": {},
   "outputs": [],
   "source": [
    "wine.loc[[3,4],'magnesium'] = np.nan"
   ]
  },
  {
   "cell_type": "markdown",
   "metadata": {},
   "source": [
    "### 13. Fill the value of NaN with the number 10 in alcohol and 100 in magnesium"
   ]
  },
  {
   "cell_type": "code",
   "execution_count": null,
   "metadata": {},
   "outputs": [],
   "source": [
    "wine.alcohol.fillna(value = 10,inplace = True)\n",
    "wine.magnesium.fillna(value = 100,inplace = True)"
   ]
  },
  {
   "cell_type": "markdown",
   "metadata": {},
   "source": [
    "### 14. Count the number of missing values in all columns."
   ]
  },
  {
   "cell_type": "code",
   "execution_count": null,
   "metadata": {},
   "outputs": [],
   "source": [
    "wine.isna().sum()"
   ]
  },
  {
   "cell_type": "markdown",
   "metadata": {},
   "source": [
    "### 15.  Create an array of 10 random numbers up until 10 and save it."
   ]
  },
  {
   "cell_type": "code",
   "execution_count": null,
   "metadata": {},
   "outputs": [],
   "source": [
    "random = np.random.randint(0,high = 11, size = 10)"
   ]
  },
  {
   "cell_type": "markdown",
   "metadata": {},
   "source": [
    "### 16.  Set the rows corresponding to the random numbers to NaN in the column *alcohol*"
   ]
  },
  {
   "cell_type": "code",
   "execution_count": null,
   "metadata": {},
   "outputs": [],
   "source": [
    "wine.loc[random,'alcohol'] = np.nan"
   ]
  },
  {
   "cell_type": "markdown",
   "metadata": {},
   "source": [
    "### 17.  How many missing values do we have now?"
   ]
  },
  {
   "cell_type": "code",
   "execution_count": null,
   "metadata": {},
   "outputs": [],
   "source": [
    "wine.isna().sum()"
   ]
  },
  {
   "cell_type": "markdown",
   "metadata": {},
   "source": [
    "### 18. Print only the non-null values in alcohol"
   ]
  },
  {
   "cell_type": "code",
   "execution_count": null,
   "metadata": {},
   "outputs": [],
   "source": [
    "wine[pd.notna(wine['alcohol'])]"
   ]
  },
  {
   "cell_type": "markdown",
   "metadata": {},
   "source": [
    "### 19. Delete the rows that contain missing values"
   ]
  },
  {
   "cell_type": "code",
   "execution_count": null,
   "metadata": {},
   "outputs": [],
   "source": [
    "wine.dropna(axis = 0,inplace = True, how = 'all',thresh = 5)"
   ]
  },
  {
   "cell_type": "markdown",
   "metadata": {},
   "source": [
    "### 20.  Reset the index, so it starts with 0 again"
   ]
  },
  {
   "cell_type": "code",
   "execution_count": null,
   "metadata": {},
   "outputs": [],
   "source": [
    "wine.reset_index(inplace = True)"
   ]
  },
  {
   "cell_type": "markdown",
   "metadata": {},
   "source": [
    "## Section-3: The pupose of the below exercise (21-27) is to understand ***filtering & sorting*** data from dataframe.\n",
    "## The below exercises required to use chipotle.tsv"
   ]
  },
  {
   "cell_type": "markdown",
   "metadata": {},
   "source": [
    "This time we are going to pull data directly from the internet.  \n",
    "Import the dataset directly from this link (https://raw.githubusercontent.com/justmarkham/DAT8/master/data/chipotle.tsv) and create dataframe called chipo"
   ]
  },
  {
   "cell_type": "code",
   "execution_count": null,
   "metadata": {},
   "outputs": [],
   "source": [
    "chipo = pd.read_csv('https://raw.githubusercontent.com/justmarkham/DAT8/master/data/chipotle.tsv',sep = '\\t')"
   ]
  },
  {
   "cell_type": "markdown",
   "metadata": {},
   "source": [
    "### 21. How many products cost more than $10.00? \n",
    "\n",
    "Use `str` attribute to remove the $ sign and convert the column to proper numeric type data before filtering.\n"
   ]
  },
  {
   "cell_type": "code",
   "execution_count": null,
   "metadata": {},
   "outputs": [],
   "source": [
    "chipo.item_price =chipo.item_price.str.replace('$','').astype('float')"
   ]
  },
  {
   "cell_type": "markdown",
   "metadata": {},
   "source": [
    "### 22. Print the Chipo Dataframe & info about data frame"
   ]
  },
  {
   "cell_type": "code",
   "execution_count": null,
   "metadata": {},
   "outputs": [],
   "source": [
    "print(chipo,chipo.dtypes,end = '\\n')"
   ]
  },
  {
   "cell_type": "markdown",
   "metadata": {},
   "source": [
    "### 23. What is the price of each item? \n",
    "- Delete the duplicates in item_name and quantity\n",
    "- Print a data frame with only two columns `item_name` and `item_price`\n",
    "- Sort the values from the most to less expensive"
   ]
  },
  {
   "cell_type": "code",
   "execution_count": null,
   "metadata": {},
   "outputs": [],
   "source": [
    "chipo.drop_duplicates(subset = ['item_name','item_price'],inplace = True)\n",
    "chipo.sort_values(['item_price'],ascending = False,inplace = True,ignore_index = True)\n",
    "print(chipo.loc[:,['item_name','item_price']])"
   ]
  },
  {
   "cell_type": "markdown",
   "metadata": {},
   "source": [
    "### 24. Sort by the name of the item"
   ]
  },
  {
   "cell_type": "code",
   "execution_count": null,
   "metadata": {},
   "outputs": [],
   "source": [
    "chipo.sort_values('item_name',axis = 0,inplace = True)"
   ]
  },
  {
   "cell_type": "markdown",
   "metadata": {},
   "source": [
    "### 25. What was the quantity of the most expensive item ordered?"
   ]
  },
  {
   "cell_type": "code",
   "execution_count": null,
   "metadata": {},
   "outputs": [],
   "source": [
    "chipo.sort_values('item_price',ascending = False).head(1)"
   ]
  },
  {
   "cell_type": "markdown",
   "metadata": {},
   "source": [
    "### 26. How many times were a Veggie Salad Bowl ordered?"
   ]
  },
  {
   "cell_type": "code",
   "execution_count": null,
   "metadata": {},
   "outputs": [],
   "source": [
    "chipo.loc[chipo.item_name == 'Veggie Salad Bowl','order_id'].count()"
   ]
  },
  {
   "cell_type": "markdown",
   "metadata": {},
   "source": [
    "### 27. How many times people orderd more than one Canned Soda?"
   ]
  },
  {
   "cell_type": "code",
   "execution_count": null,
   "metadata": {},
   "outputs": [],
   "source": [
    "chipo.loc[(chipo.item_name == 'Canned Soda')& (chipo.quantity > 1),'order_id'].count()"
   ]
  },
  {
   "cell_type": "markdown",
   "metadata": {},
   "source": [
    "## Section-4: The purpose of the below exercises is to understand how to perform aggregations of data frame\n",
    "## The below exercises (28-33) required to use occupation.csv"
   ]
  },
  {
   "cell_type": "markdown",
   "metadata": {},
   "source": [
    "###  28. Import the dataset occupation.csv and assign object as users"
   ]
  },
  {
   "cell_type": "code",
   "execution_count": null,
   "metadata": {},
   "outputs": [],
   "source": [
    "users = pd.read_csv('C:/Users/Nithin/Downloads/Basic Data Manipulation - Visualization Exercise 2/Exercise Data Files/occupation.csv',sep = '|')"
   ]
  },
  {
   "cell_type": "markdown",
   "metadata": {},
   "source": [
    "### 29. Discover what is the mean age per occupation"
   ]
  },
  {
   "cell_type": "code",
   "execution_count": null,
   "metadata": {},
   "outputs": [],
   "source": [
    "round(users.groupby('occupation').age.mean(),1)"
   ]
  },
  {
   "cell_type": "markdown",
   "metadata": {},
   "source": [
    "### 30. Discover the Male ratio per occupation and sort it from the most to the least.\n",
    "\n",
    "Use numpy.where() to encode gender column."
   ]
  },
  {
   "cell_type": "code",
   "execution_count": null,
   "metadata": {},
   "outputs": [],
   "source": [
    "users['gencat']=np.where(users.gender == 'M',1,0)\n",
    "round((users.groupby('occupation').gencat.sum())/(users.groupby('occupation').gender.count())*100,2)"
   ]
  },
  {
   "cell_type": "markdown",
   "metadata": {},
   "source": [
    "### 31. For each occupation, calculate the minimum and maximum ages"
   ]
  },
  {
   "cell_type": "code",
   "execution_count": null,
   "metadata": {},
   "outputs": [],
   "source": [
    "users.groupby('occupation').age.max()\n",
    "users.groupby('occupation').age.min()"
   ]
  },
  {
   "cell_type": "markdown",
   "metadata": {},
   "source": [
    "### 32. For each combination of occupation and gender, calculate the mean age"
   ]
  },
  {
   "cell_type": "code",
   "execution_count": null,
   "metadata": {},
   "outputs": [],
   "source": [
    "round(users.groupby(['occupation','gender']).age.mean(),2)"
   ]
  },
  {
   "cell_type": "markdown",
   "metadata": {},
   "source": [
    "### 33.  For each occupation present the percentage of women and men"
   ]
  },
  {
   "cell_type": "code",
   "execution_count": null,
   "metadata": {},
   "outputs": [],
   "source": [
    "perM_F = round((users.groupby(['occupation','gender']).agg({'gender':'count'}))/(users.groupby('occupation').count())*100,2)\n",
    "perM_F['gender']"
   ]
  },
  {
   "cell_type": "markdown",
   "metadata": {},
   "source": [
    "## Section-6: The purpose of the below exercises is to understand how to use lambda-apply-functions\n",
    "## The below exercises (34-41) required to use student-mat.csv and student-por.csv files "
   ]
  },
  {
   "cell_type": "markdown",
   "metadata": {},
   "source": [
    "### 34. Import the datasets *student-mat* and *student-por* and append them and assigned object as df"
   ]
  },
  {
   "cell_type": "code",
   "execution_count": null,
   "metadata": {},
   "outputs": [],
   "source": [
    "stud_mat = pd.read_csv('C:/Users/Nithin/Downloads/Basic Data Manipulation - Visualization Exercise 2/Exercise Data Files/student-mat.csv')\n",
    "stud_por = pd.read_csv('C:/Users/Nithin/Downloads/Basic Data Manipulation - Visualization Exercise 2/Exercise Data Files/student-por.csv')\n",
    "df = stud_mat.append(stud_por)"
   ]
  },
  {
   "cell_type": "markdown",
   "metadata": {},
   "source": [
    "### 35. For the purpose of this exercise slice the dataframe from 'school' until the 'guardian' column"
   ]
  },
  {
   "cell_type": "code",
   "execution_count": null,
   "metadata": {},
   "outputs": [],
   "source": [
    "df.iloc[:,0:df.columns.get_loc('guardian')+1]"
   ]
  },
  {
   "cell_type": "markdown",
   "metadata": {},
   "source": [
    "### 36. Create a lambda function that captalize strings (example: if we give at_home as input function and should give At_home as output."
   ]
  },
  {
   "cell_type": "code",
   "execution_count": null,
   "metadata": {},
   "outputs": [],
   "source": [
    "str_cap = lambda x: x.title()"
   ]
  },
  {
   "cell_type": "markdown",
   "metadata": {},
   "source": [
    "### 37. Capitalize both Mjob and Fjob variables using above lamdba function"
   ]
  },
  {
   "cell_type": "code",
   "execution_count": null,
   "metadata": {},
   "outputs": [],
   "source": [
    "df.Mjob = df.Mjob.apply(str_cap)\n",
    "df.Fjob = df.Fjob.apply(str_cap)"
   ]
  },
  {
   "cell_type": "markdown",
   "metadata": {},
   "source": [
    "### 38. Print the last elements of the data set. (Last few records)"
   ]
  },
  {
   "cell_type": "code",
   "execution_count": null,
   "metadata": {},
   "outputs": [],
   "source": [
    "df.tail()"
   ]
  },
  {
   "cell_type": "markdown",
   "metadata": {},
   "source": [
    "### 39. Did you notice the original dataframe is still lowercase? Why is that? Fix it and captalize Mjob and Fjob."
   ]
  },
  {
   "cell_type": "code",
   "execution_count": null,
   "metadata": {},
   "outputs": [],
   "source": [
    "df.age"
   ]
  },
  {
   "cell_type": "markdown",
   "metadata": {},
   "source": [
    "### 40. Create a function called majority that return a boolean value to a new column called legal_drinker"
   ]
  },
  {
   "cell_type": "code",
   "execution_count": null,
   "metadata": {},
   "outputs": [],
   "source": [
    "df['legal_drinker'] = np.where(df.age > 18,1,0)"
   ]
  },
  {
   "cell_type": "markdown",
   "metadata": {},
   "source": [
    "### 41. Multiply every number of the dataset by 10. "
   ]
  },
  {
   "cell_type": "code",
   "execution_count": null,
   "metadata": {},
   "outputs": [],
   "source": [
    "df.select_dtypes('int64').apply(lambda x : x * 10)"
   ]
  },
  {
   "cell_type": "markdown",
   "metadata": {},
   "source": [
    "## Section-6: The purpose of the below exercises is to understand how to perform simple joins\n",
    "## The below exercises (42-48) required to use cars1.csv and cars2.csv files "
   ]
  },
  {
   "cell_type": "markdown",
   "metadata": {},
   "source": [
    "### 42. Import the datasets cars1.csv and cars2.csv and assign names as cars1 and cars2"
   ]
  },
  {
   "cell_type": "code",
   "execution_count": null,
   "metadata": {},
   "outputs": [],
   "source": [
    "cars1 = pd.read_csv('C:/Users/Nithin/Downloads/Basic Data Manipulation - Visualization Exercise 2/Exercise Data Files/cars1.csv')\n",
    "cars2 = pd.read_csv('C:/Users/Nithin/Downloads/Basic Data Manipulation - Visualization Exercise 2/Exercise Data Files/cars2.csv')"
   ]
  },
  {
   "cell_type": "markdown",
   "metadata": {},
   "source": [
    "   ### 43. Print the information to cars1 by applying below functions \n",
    "   hint: Use different functions/methods like type(), head(), tail(), columns(), info(), dtypes(), index(), shape(), count(), size(), ndim(), axes(), describe(), memory_usage(), sort_values(), value_counts()\n",
    "   Also create profile report using pandas_profiling.Profile_Report"
   ]
  },
  {
   "cell_type": "code",
   "execution_count": null,
   "metadata": {},
   "outputs": [],
   "source": [
    "cars1.dtypes"
   ]
  },
  {
   "cell_type": "code",
   "execution_count": null,
   "metadata": {},
   "outputs": [],
   "source": [
    "cars1.head(2)"
   ]
  },
  {
   "cell_type": "code",
   "execution_count": null,
   "metadata": {},
   "outputs": [],
   "source": [
    "cars1.tail(2)"
   ]
  },
  {
   "cell_type": "code",
   "execution_count": null,
   "metadata": {},
   "outputs": [],
   "source": [
    "cars1.columns"
   ]
  },
  {
   "cell_type": "code",
   "execution_count": null,
   "metadata": {},
   "outputs": [],
   "source": [
    "cars1.info"
   ]
  },
  {
   "cell_type": "code",
   "execution_count": null,
   "metadata": {},
   "outputs": [],
   "source": [
    "cars1.index"
   ]
  },
  {
   "cell_type": "code",
   "execution_count": null,
   "metadata": {},
   "outputs": [],
   "source": [
    "cars1.shape"
   ]
  },
  {
   "cell_type": "code",
   "execution_count": null,
   "metadata": {},
   "outputs": [],
   "source": [
    "cars1.ndim"
   ]
  },
  {
   "cell_type": "code",
   "execution_count": null,
   "metadata": {},
   "outputs": [],
   "source": [
    "cars1.axes"
   ]
  },
  {
   "cell_type": "code",
   "execution_count": null,
   "metadata": {},
   "outputs": [],
   "source": [
    "cars1.describe"
   ]
  },
  {
   "cell_type": "code",
   "execution_count": null,
   "metadata": {},
   "outputs": [],
   "source": [
    "cars1.memory_usage"
   ]
  },
  {
   "cell_type": "code",
   "execution_count": null,
   "metadata": {},
   "outputs": [],
   "source": [
    "cars1.sort_values('model')"
   ]
  },
  {
   "cell_type": "code",
   "execution_count": null,
   "metadata": {},
   "outputs": [],
   "source": [
    "cars1.value_counts"
   ]
  },
  {
   "cell_type": "code",
   "execution_count": null,
   "metadata": {},
   "outputs": [],
   "source": [
    "import pandas_profiling as pp\n",
    "pp.ProfileReport(cars1)"
   ]
  },
  {
   "cell_type": "markdown",
   "metadata": {},
   "source": [
    "### 44. It seems our first dataset has some unnamed blank columns, fix cars1"
   ]
  },
  {
   "cell_type": "code",
   "execution_count": null,
   "metadata": {},
   "outputs": [],
   "source": [
    "cars1.drop(columns = ['Unnamed: 9','Unnamed: 10','Unnamed: 11','Unnamed: 12','Unnamed: 13'],inplace = True)"
   ]
  },
  {
   "cell_type": "markdown",
   "metadata": {},
   "source": [
    "### 45. What is the number of observations in each dataset?"
   ]
  },
  {
   "cell_type": "code",
   "execution_count": null,
   "metadata": {},
   "outputs": [],
   "source": [
    "cars1.shape[0]\n",
    "cars2.shape[0]"
   ]
  },
  {
   "cell_type": "markdown",
   "metadata": {},
   "source": [
    "### 46. Join cars1 and cars2 into a single DataFrame called cars"
   ]
  },
  {
   "cell_type": "code",
   "execution_count": null,
   "metadata": {},
   "outputs": [],
   "source": [
    "cars = cars1.append(cars2,ignore_index= True)"
   ]
  },
  {
   "cell_type": "markdown",
   "metadata": {},
   "source": [
    "### 47. There is a column missing, called owners. Create a random number Series from 15,000 to 73,000."
   ]
  },
  {
   "cell_type": "code",
   "execution_count": null,
   "metadata": {},
   "outputs": [],
   "source": [
    "cars['owners'] = np.random.randint(15000,730001,size = cars.shape[0])"
   ]
  },
  {
   "cell_type": "markdown",
   "metadata": {},
   "source": [
    "### 48. Add the column owners to cars"
   ]
  },
  {
   "cell_type": "code",
   "execution_count": null,
   "metadata": {},
   "outputs": [],
   "source": [
    "cars"
   ]
  },
  {
   "cell_type": "markdown",
   "metadata": {},
   "source": [
    "## Section-7: The purpose of the below exercises is to understand how to perform date time operations"
   ]
  },
  {
   "cell_type": "markdown",
   "metadata": {},
   "source": [
    "### 49. Write a Python script to display the\n",
    "- a. Current date and time\n",
    "- b. Current year\n",
    "- c. Month of year\n",
    "- d. Week number of the year\n",
    "- e. Weekday of the week\n",
    "- f. Day of year\n",
    "- g. Day of the month\n",
    "- h. Day of week"
   ]
  },
  {
   "cell_type": "code",
   "execution_count": null,
   "metadata": {},
   "outputs": [],
   "source": [
    "dt.datetime.today()"
   ]
  },
  {
   "cell_type": "code",
   "execution_count": null,
   "metadata": {},
   "outputs": [],
   "source": [
    "dt.datetime.today().year"
   ]
  },
  {
   "cell_type": "code",
   "execution_count": null,
   "metadata": {},
   "outputs": [],
   "source": [
    "dt.datetime.today().month"
   ]
  },
  {
   "cell_type": "code",
   "execution_count": null,
   "metadata": {},
   "outputs": [],
   "source": [
    "dt.datetime.today().isocalendar()[1]"
   ]
  },
  {
   "cell_type": "code",
   "execution_count": null,
   "metadata": {},
   "outputs": [],
   "source": [
    "dt.datetime.today().strftime('%A')"
   ]
  },
  {
   "cell_type": "code",
   "execution_count": null,
   "metadata": {},
   "outputs": [],
   "source": [
    "dt.datetime.today().strftime('%j')"
   ]
  },
  {
   "cell_type": "code",
   "execution_count": null,
   "metadata": {},
   "outputs": [],
   "source": [
    "dt.datetime.today().strftime('%d')"
   ]
  },
  {
   "cell_type": "code",
   "execution_count": null,
   "metadata": {},
   "outputs": [],
   "source": [
    "dt.datetime.today().strftime('%w')"
   ]
  },
  {
   "cell_type": "markdown",
   "metadata": {},
   "source": [
    "### 50. Write a Python program to convert a string to datetime.\n",
    "Sample String : Jul 1 2014 2:43PM \n",
    "\n",
    "Expected Output : 2014-07-01 14:43:00"
   ]
  },
  {
   "cell_type": "code",
   "execution_count": null,
   "metadata": {},
   "outputs": [],
   "source": [
    "s = 'Jul 1 2014 2:43PM'\n",
    "s = dt.datetime.strptime(s,'%b %d %Y %I:%M%p')\n",
    "s.strftime('%Y-%m-%d %H:%M:%S')"
   ]
  },
  {
   "cell_type": "markdown",
   "metadata": {},
   "source": [
    "### 51. Write a Python program to subtract five days from current date.\n",
    "\n",
    "Current Date : 2015-06-22\n",
    "\n",
    "5 days before Current Date : 2015-06-17"
   ]
  },
  {
   "cell_type": "code",
   "execution_count": null,
   "metadata": {},
   "outputs": [],
   "source": [
    "dt.datetime.now() - dt.timedelta(5)"
   ]
  },
  {
   "cell_type": "markdown",
   "metadata": {},
   "source": [
    "### 52. Write a Python program to convert unix timestamp string to readable date.\n",
    "\n",
    "Sample Unix timestamp string : 1284105682\n",
    "    \n",
    "Expected Output : 2010-09-10 13:31:22"
   ]
  },
  {
   "cell_type": "code",
   "execution_count": null,
   "metadata": {},
   "outputs": [],
   "source": [
    "t = 1284105682\n",
    "t = dt.datetime.fromtimestamp(t).strftime('%Y-%m-%d %H:%M:%S')"
   ]
  },
  {
   "cell_type": "markdown",
   "metadata": {},
   "source": [
    "### 53. Convert the below Series to pandas datetime : \n",
    "\n",
    "DoB = pd.Series([\"07Sep59\",\"01Jan55\",\"15Dec47\",\"11Jul42\"])\n",
    "\n",
    "Make sure that the year is 19XX not 20XX"
   ]
  },
  {
   "cell_type": "code",
   "execution_count": null,
   "metadata": {},
   "outputs": [],
   "source": [
    "DoB = pd.Series([\"07Sep59\",\"01Jan55\",\"15Dec47\",\"11Jul42\",\"12Jan79\"])"
   ]
  },
  {
   "cell_type": "code",
   "execution_count": null,
   "metadata": {},
   "outputs": [],
   "source": [
    "DOB = pd.Series(np.where(pd.to_datetime(DoB,format = '%d%b%y').dt.year > 2021 ,\n",
    "         pd.to_datetime(DoB,format = '%d%b%y') + pd.DateOffset(years = -100),\n",
    "         pd.to_datetime(DoB,format = '%d%b%y')))"
   ]
  },
  {
   "cell_type": "markdown",
   "metadata": {},
   "source": [
    "### 54. Write a Python program to get days between two dates. "
   ]
  },
  {
   "cell_type": "code",
   "execution_count": null,
   "metadata": {},
   "outputs": [],
   "source": [
    "a = DOB[1]\n",
    "b = DOB[3]\n",
    "pd.Timedelta(a-b)"
   ]
  },
  {
   "cell_type": "markdown",
   "metadata": {},
   "source": [
    "### 55. Convert the below date to datetime and then change its display format using the .dt module\n",
    "\n",
    "Date = \"15Dec1989\"\n",
    "\n",
    "Result : \"Friday, 15 Dec 98\""
   ]
  },
  {
   "cell_type": "code",
   "execution_count": null,
   "metadata": {},
   "outputs": [],
   "source": [
    "c = \"15Dec1989\"\n",
    "dt.datetime.strptime(c,'%d%b%Y')"
   ]
  },
  {
   "cell_type": "markdown",
   "metadata": {},
   "source": [
    "## The below exercises (56-66) required to use wind.data file "
   ]
  },
  {
   "cell_type": "markdown",
   "metadata": {},
   "source": [
    "### About wind.data:\n",
    "\n",
    "The data have been modified to contain some missing values, identified by NaN.  \n",
    "\n",
    "1. The data in 'wind.data' has the following format:"
   ]
  },
  {
   "cell_type": "raw",
   "metadata": {},
   "source": [
    "\"\"\"\n",
    "Yr Mo Dy   RPT   VAL   ROS   KIL   SHA   BIR   DUB   CLA   MUL   CLO   BEL   MAL\n",
    "61  1  1 15.04 14.96 13.17  9.29   NaN  9.87 13.67 10.25 10.83 12.58 18.50 15.04\n",
    "61  1  2 14.71   NaN 10.83  6.50 12.62  7.67 11.50 10.04  9.79  9.67 17.54 13.83\n",
    "61  1  3 18.50 16.88 12.33 10.13 11.17  6.17 11.25   NaN  8.50  7.67 12.75 12.71\n",
    "\"\"\"\n",
    "The first three columns are year, month and day.  The remaining 12 columns are average windspeeds in knots at 12 locations in Ireland on that day. "
   ]
  },
  {
   "cell_type": "markdown",
   "metadata": {},
   "source": [
    "### 56. Import the dataset wind.data and assign it to a variable called data and replace the first 3 columns by a proper date time index"
   ]
  },
  {
   "cell_type": "code",
   "execution_count": null,
   "metadata": {},
   "outputs": [],
   "source": [
    "data = pd.read_csv('C:/Users/Nithin/Downloads/Basic Data Manipulation - Visualization Exercise 2/Exercise Data Files/wind.data')"
   ]
  },
  {
   "cell_type": "code",
   "execution_count": null,
   "metadata": {},
   "outputs": [],
   "source": [
    "data.Yr = pd.Series(np.where(pd.to_datetime(data.Yr, format = '%y').dt.year > 2022,\n",
    "    pd.to_datetime(data.Yr, format = '%y') + pd.DateOffset(years = -100),\n",
    "    pd.to_datetime(data.Yr, format = '%y')))\n",
    "data.Yr = data.Yr.dt.year"
   ]
  },
  {
   "cell_type": "code",
   "execution_count": null,
   "metadata": {},
   "outputs": [],
   "source": [
    "#Data Prep\n",
    "data.Yr = data.Yr.astype('str')\n",
    "data.Mo = data.Mo.astype('str')\n",
    "data.Dy = data.Dy.astype('str')\n",
    "data['DOI'] = Y+'-'+M+'-'+D\n",
    "data.DOI = pd.to_datetime(data.DOI,format = '%Y-%m-%d')\n"
   ]
  },
  {
   "cell_type": "markdown",
   "metadata": {},
   "source": [
    "### 57. Year 2061 is seemingly imporoper. Convert every year which are < 70 to 19XX instead of 20XX."
   ]
  },
  {
   "cell_type": "code",
   "execution_count": null,
   "metadata": {},
   "outputs": [],
   "source": [
    "data"
   ]
  },
  {
   "cell_type": "markdown",
   "metadata": {},
   "source": [
    "### 58. Set the right dates as the index. Pay attention at the data type, it should be datetime64[ns]."
   ]
  },
  {
   "cell_type": "code",
   "execution_count": null,
   "metadata": {},
   "outputs": [],
   "source": [
    "data.index = data.DOI"
   ]
  },
  {
   "cell_type": "markdown",
   "metadata": {},
   "source": [
    "### 59. Compute how many values are missing for each location over the entire record.  \n",
    "#### They should be ignored in all calculations below. "
   ]
  },
  {
   "cell_type": "code",
   "execution_count": null,
   "metadata": {},
   "outputs": [],
   "source": [
    "data.isna().sum()"
   ]
  },
  {
   "cell_type": "markdown",
   "metadata": {},
   "source": [
    "### 60. Compute how many non-missing values there are in total."
   ]
  },
  {
   "cell_type": "code",
   "execution_count": null,
   "metadata": {},
   "outputs": [],
   "source": [
    "data.notnull().sum()"
   ]
  },
  {
   "cell_type": "code",
   "execution_count": null,
   "metadata": {},
   "outputs": [],
   "source": [
    "data.dropna(axis = 0,inplace = True)"
   ]
  },
  {
   "cell_type": "markdown",
   "metadata": {},
   "source": [
    "### 61. Calculate the mean windspeeds over all the locations and all the times.\n",
    "#### A single number for the entire dataset."
   ]
  },
  {
   "cell_type": "code",
   "execution_count": null,
   "metadata": {},
   "outputs": [],
   "source": [
    "data.select_dtypes(['int64','float64']).mean(axis = 1)"
   ]
  },
  {
   "cell_type": "markdown",
   "metadata": {},
   "source": [
    "### 62. Create a DataFrame called loc_stats and calculate the min, max and mean windspeeds and standard deviations of the windspeeds at each location over all the days \n",
    "\n",
    "#### A different set of numbers for each location."
   ]
  },
  {
   "cell_type": "code",
   "execution_count": null,
   "metadata": {},
   "outputs": [],
   "source": [
    "loc_stats = data.select_dtypes(['int64','float64']).describe()"
   ]
  },
  {
   "cell_type": "markdown",
   "metadata": {},
   "source": [
    "### 63. Create a DataFrame called day_stats and calculate the min, max and mean windspeed and standard deviations of the windspeeds across all the locations at each day.\n",
    "\n",
    "#### A different set of numbers for each day."
   ]
  },
  {
   "cell_type": "code",
   "execution_count": null,
   "metadata": {},
   "outputs": [],
   "source": [
    "data.groupby(data.index).describe()"
   ]
  },
  {
   "cell_type": "markdown",
   "metadata": {},
   "source": [
    "### 64. Find the average windspeed in January for each location.  \n",
    "#### Treat January 1961 and January 1962 both as January."
   ]
  },
  {
   "cell_type": "code",
   "execution_count": null,
   "metadata": {},
   "outputs": [],
   "source": [
    "data.groupby('Mo').get_group('1').select_dtypes(['int64','float64']).mean(axis = 1)"
   ]
  },
  {
   "cell_type": "markdown",
   "metadata": {},
   "source": [
    "### 65. Calculate the mean windspeed for each month in the dataset.  \n",
    "#### Treat January 1961 and January 1962 as *different* months.\n",
    "#### (hint: first find a  way to create an identifier unique for each month.)"
   ]
  },
  {
   "cell_type": "code",
   "execution_count": null,
   "metadata": {},
   "outputs": [],
   "source": [
    "data.groupby('Mo').sum().mean(axis = 1)"
   ]
  },
  {
   "cell_type": "markdown",
   "metadata": {},
   "source": [
    "### 66. Calculate the min, max and mean windspeeds and standard deviations of the windspeeds across all locations for each week (assume that the first week starts on January 2 1961) for the first 52 weeks."
   ]
  },
  {
   "cell_type": "code",
   "execution_count": null,
   "metadata": {},
   "outputs": [],
   "source": [
    "data.DOI.dt.week"
   ]
  },
  {
   "cell_type": "code",
   "execution_count": null,
   "metadata": {},
   "outputs": [],
   "source": [
    "data.loc[data.Yr == '1961',:].groupby(data.DOI.dt.week).describe().head()"
   ]
  },
  {
   "cell_type": "markdown",
   "metadata": {},
   "source": [
    "## The below exercises (67-70) required to use appl_1980_2014.csv  file"
   ]
  },
  {
   "cell_type": "markdown",
   "metadata": {},
   "source": [
    "### 67. Import the file appl_1980_2014.csv and assign it to a variable called 'apple'"
   ]
  },
  {
   "cell_type": "code",
   "execution_count": null,
   "metadata": {},
   "outputs": [],
   "source": [
    "apple = pd.read_csv('C:/Users/Nithin/Downloads/Basic Data Manipulation - Visualization Exercise 2/Exercise Data Files/appl_1980_2014.csv')"
   ]
  },
  {
   "cell_type": "markdown",
   "metadata": {},
   "source": [
    "### 68.  Check out the type of the columns"
   ]
  },
  {
   "cell_type": "code",
   "execution_count": null,
   "metadata": {},
   "outputs": [],
   "source": [
    "apple.dtypes"
   ]
  },
  {
   "cell_type": "markdown",
   "metadata": {},
   "source": [
    "### 69. Transform the Date column as a datetime type"
   ]
  },
  {
   "cell_type": "code",
   "execution_count": null,
   "metadata": {},
   "outputs": [],
   "source": [
    "apple.Date = pd.to_datetime(apple.Date,format = '%Y-%m-%d' )"
   ]
  },
  {
   "cell_type": "markdown",
   "metadata": {},
   "source": [
    "### 70.  Set the date as the index"
   ]
  },
  {
   "cell_type": "code",
   "execution_count": null,
   "metadata": {},
   "outputs": [],
   "source": [
    "apple.index = apple.Date"
   ]
  },
  {
   "cell_type": "markdown",
   "metadata": {},
   "source": [
    "### 71.  Is there any duplicate dates?"
   ]
  },
  {
   "cell_type": "code",
   "execution_count": null,
   "metadata": {},
   "outputs": [],
   "source": [
    "apple.duplicated(subset='Date').sum()"
   ]
  },
  {
   "cell_type": "markdown",
   "metadata": {},
   "source": [
    "### 72.  The index is from the most recent date. Sort the data so that the first entry is the oldest date."
   ]
  },
  {
   "cell_type": "code",
   "execution_count": null,
   "metadata": {},
   "outputs": [],
   "source": [
    "apple.sort_index(level = 'Date',ascending = True,inplace = True)"
   ]
  },
  {
   "cell_type": "markdown",
   "metadata": {},
   "source": [
    "### 73. Get the last business day of each month"
   ]
  },
  {
   "cell_type": "code",
   "execution_count": null,
   "metadata": {},
   "outputs": [],
   "source": [
    "apple['Last_day'] = apple.Date.dt.daysinmonth"
   ]
  },
  {
   "cell_type": "markdown",
   "metadata": {},
   "source": [
    "### 74.  What is the difference in days between the first day and the oldest"
   ]
  },
  {
   "cell_type": "code",
   "execution_count": null,
   "metadata": {},
   "outputs": [],
   "source": [
    "apple.Date.max()-apple.Date.min()"
   ]
  },
  {
   "cell_type": "markdown",
   "metadata": {},
   "source": [
    "### 75.  How many months in the data we have?"
   ]
  },
  {
   "cell_type": "code",
   "execution_count": null,
   "metadata": {},
   "outputs": [],
   "source": [
    "(pd.Timestamp(apple.Date.max())-pd.Timestamp(apple.Date.min())).days/30.5"
   ]
  },
  {
   "cell_type": "markdown",
   "metadata": {},
   "source": [
    "## Section-8: The purpose of the below exercises is to understand how to create basic graphs"
   ]
  },
  {
   "cell_type": "markdown",
   "metadata": {},
   "source": [
    "### 76. Plot the 'Adj Close' value. Set the size of the figure to 13.5 x 9 inches"
   ]
  },
  {
   "cell_type": "code",
   "execution_count": null,
   "metadata": {},
   "outputs": [],
   "source": [
    "apple.rename(columns= {'Adj Close':'Adj_close'},inplace = True)"
   ]
  },
  {
   "cell_type": "code",
   "execution_count": null,
   "metadata": {},
   "outputs": [],
   "source": [
    "apple.Adj_close.plot(kind = 'line')"
   ]
  },
  {
   "cell_type": "markdown",
   "metadata": {},
   "source": [
    "## The below exercises (77-80) required to use Online_Retail.csv file"
   ]
  },
  {
   "cell_type": "markdown",
   "metadata": {},
   "source": [
    "### 77. Import the dataset from this Online_Retail.csv and assign it to a variable called online_rt"
   ]
  },
  {
   "cell_type": "code",
   "execution_count": 3,
   "metadata": {},
   "outputs": [],
   "source": [
    "online_rt = pd.read_csv('C:/Users/Nithin/Downloads/Basic Data Manipulation - Visualization Exercise 2/Exercise Data Files/Online_Retail.csv',sep = \",\", encoding='latin')"
   ]
  },
  {
   "cell_type": "markdown",
   "metadata": {},
   "source": [
    "### 78. Create a barchart with the 10 countries that have the most 'Quantity' ordered except UK"
   ]
  },
  {
   "cell_type": "code",
   "execution_count": 95,
   "metadata": {},
   "outputs": [],
   "source": [
    "bar = online_rt.groupby('Country').Quantity.sum().sort_values(ascending = False).head(11)\n",
    "bar.drop(labels='United Kingdom',inplace = True)"
   ]
  },
  {
   "cell_type": "code",
   "execution_count": 96,
   "metadata": {},
   "outputs": [
    {
     "data": {
      "text/plain": [
       "<AxesSubplot:xlabel='Country'>"
      ]
     },
     "execution_count": 96,
     "metadata": {},
     "output_type": "execute_result"
    },
    {
     "data": {
      "image/png": "[encoded data removed]",
      "text/plain": [
       "<Figure size 432x288 with 1 Axes>"
      ]
     },
     "metadata": {},
     "output_type": "display_data"
    }
   ],
   "source": [
    "bar.plot(x = 'Country',kind ='bar')"
   ]
  },
  {
   "cell_type": "markdown",
   "metadata": {},
   "source": [
    "### 79.  Exclude negative Quatity entries"
   ]
  },
  {
   "cell_type": "code",
   "execution_count": 113,
   "metadata": {},
   "outputs": [],
   "source": [
    "online_rt = online_rt[online_rt.Quantity>=0]"
   ]
  },
  {
   "cell_type": "markdown",
   "metadata": {},
   "source": [
    "### 80. Create a scatterplot with the Quantity per UnitPrice by CustomerID for the top 3 Countries\n",
    "Hint: First we need to find top-3 countries based on revenue, then create scater plot between Quantity and Unitprice for each country separately\n"
   ]
  },
  {
   "cell_type": "code",
   "execution_count": 4,
   "metadata": {},
   "outputs": [],
   "source": [
    "online_rt = online_rt.assign(Revenue = online_rt.UnitPrice * online_rt.Quantity)"
   ]
  },
  {
   "cell_type": "code",
   "execution_count": 5,
   "metadata": {},
   "outputs": [],
   "source": [
    "line = online_rt.groupby('Country').Revenue.sum().sort_values(ascending = False).head(3)\n",
    "a = list(line.index)"
   ]
  },
  {
   "cell_type": "code",
   "execution_count": 60,
   "metadata": {},
   "outputs": [],
   "source": [
    "ln = online_rt.loc[online_rt.Country.isin(a),:]"
   ]
  },
  {
   "cell_type": "code",
   "execution_count": 86,
   "metadata": {},
   "outputs": [
    {
     "data": {
      "application/javascript": [
       "/* Put everything inside the global mpl namespace */\n",
       "/* global mpl */\n",
       "window.mpl = {};\n",
       "\n",
       "mpl.get_websocket_type = function () {\n",
       "    if (typeof WebSocket !== 'undefined') {\n",
       "        return WebSocket;\n",
       "    } else if (typeof MozWebSocket !== 'undefined') {\n",
       "        return MozWebSocket;\n",
       "    } else {\n",
       "        alert(\n",
       "            'Your browser does not have WebSocket support. ' +\n",
       "                'Please try Chrome, Safari or Firefox ≥ 6. ' +\n",
       "                'Firefox 4 and 5 are also supported but you ' +\n",
       "                'have to enable WebSockets in about:config.'\n",
       "        );\n",
       "    }\n",
       "};\n",
       "\n",
       "mpl.figure = function (figure_id, websocket, ondownload, parent_element) {\n",
       "    this.id = figure_id;\n",
       "\n",
       "    this.ws = websocket;\n",
       "\n",
       "    this.supports_binary = this.ws.binaryType !== undefined;\n",
       "\n",
       "    if (!this.supports_binary) {\n",
       "        var warnings = document.getElementById('mpl-warnings');\n",
       "        if (warnings) {\n",
       "            warnings.style.display = 'block';\n",
       "            warnings.textContent =\n",
       "                'This browser does not support binary websocket messages. ' +\n",
       "                'Performance may be slow.';\n",
       "        }\n",
       "    }\n",
       "\n",
       "    this.imageObj = new Image();\n",
       "\n",
       "    this.context = undefined;\n",
       "    this.message = undefined;\n",
       "    this.canvas = undefined;\n",
       "    this.rubberband_canvas = undefined;\n",
       "    this.rubberband_context = undefined;\n",
       "    this.format_dropdown = undefined;\n",
       "\n",
       "    this.image_mode = 'full';\n",
       "\n",
       "    this.root = document.createElement('div');\n",
       "    this.root.setAttribute('style', 'display: inline-block');\n",
       "    this._root_extra_style(this.root);\n",
       "\n",
       "    parent_element.appendChild(this.root);\n",
       "\n",
       "    this._init_header(this);\n",
       "    this._init_canvas(this);\n",
       "    this._init_toolbar(this);\n",
       "\n",
       "    var fig = this;\n",
       "\n",
       "    this.waiting = false;\n",
       "\n",
       "    this.ws.onopen = function () {\n",
       "        fig.send_message('supports_binary', { value: fig.supports_binary });\n",
       "        fig.send_message('send_image_mode', {});\n",
       "        if (fig.ratio !== 1) {\n",
       "            fig.send_message('set_dpi_ratio', { dpi_ratio: fig.ratio });\n",
       "        }\n",
       "        fig.send_message('refresh', {});\n",
       "    };\n",
       "\n",
       "    this.imageObj.onload = function () {\n",
       "        if (fig.image_mode === 'full') {\n",
       "            // Full images could contain transparency (where diff images\n",
       "            // almost always do), so we need to clear the canvas so that\n",
       "            // there is no ghosting.\n",
       "            fig.context.clearRect(0, 0, fig.canvas.width, fig.canvas.height);\n",
       "        }\n",
       "        fig.context.drawImage(fig.imageObj, 0, 0);\n",
       "    };\n",
       "\n",
       "    this.imageObj.onunload = function () {\n",
       "        fig.ws.close();\n",
       "    };\n",
       "\n",
       "    this.ws.onmessage = this._make_on_message_function(this);\n",
       "\n",
       "    this.ondownload = ondownload;\n",
       "};\n",
       "\n",
       "mpl.figure.prototype._init_header = function () {\n",
       "    var titlebar = document.createElement('div');\n",
       "    titlebar.classList =\n",
       "        'ui-dialog-titlebar ui-widget-header ui-corner-all ui-helper-clearfix';\n",
       "    var titletext = document.createElement('div');\n",
       "    titletext.classList = 'ui-dialog-title';\n",
       "    titletext.setAttribute(\n",
       "        'style',\n",
       "        'width: 100%; text-align: center; padding: 3px;'\n",
       "    );\n",
       "    titlebar.appendChild(titletext);\n",
       "    this.root.appendChild(titlebar);\n",
       "    this.header = titletext;\n",
       "};\n",
       "\n",
       "mpl.figure.prototype._canvas_extra_style = function (_canvas_div) {};\n",
       "\n",
       "mpl.figure.prototype._root_extra_style = function (_canvas_div) {};\n",
       "\n",
       "mpl.figure.prototype._init_canvas = function () {\n",
       "    var fig = this;\n",
       "\n",
       "    var canvas_div = (this.canvas_div = document.createElement('div'));\n",
       "    canvas_div.setAttribute(\n",
       "        'style',\n",
       "        'border: 1px solid #ddd;' +\n",
       "            'box-sizing: content-box;' +\n",
       "            'clear: both;' +\n",
       "            'min-height: 1px;' +\n",
       "            'min-width: 1px;' +\n",
       "            'outline: 0;' +\n",
       "            'overflow: hidden;' +\n",
       "            'position: relative;' +\n",
       "            'resize: both;'\n",
       "    );\n",
       "\n",
       "    function on_keyboard_event_closure(name) {\n",
       "        return function (event) {\n",
       "            return fig.key_event(event, name);\n",
       "        };\n",
       "    }\n",
       "\n",
       "    canvas_div.addEventListener(\n",
       "        'keydown',\n",
       "        on_keyboard_event_closure('key_press')\n",
       "    );\n",
       "    canvas_div.addEventListener(\n",
       "        'keyup',\n",
       "        on_keyboard_event_closure('key_release')\n",
       "    );\n",
       "\n",
       "    this._canvas_extra_style(canvas_div);\n",
       "    this.root.appendChild(canvas_div);\n",
       "\n",
       "    var canvas = (this.canvas = document.createElement('canvas'));\n",
       "    canvas.classList.add('mpl-canvas');\n",
       "    canvas.setAttribute('style', 'box-sizing: content-box;');\n",
       "\n",
       "    this.context = canvas.getContext('2d');\n",
       "\n",
       "    var backingStore =\n",
       "        this.context.backingStorePixelRatio ||\n",
       "        this.context.webkitBackingStorePixelRatio ||\n",
       "        this.context.mozBackingStorePixelRatio ||\n",
       "        this.context.msBackingStorePixelRatio ||\n",
       "        this.context.oBackingStorePixelRatio ||\n",
       "        this.context.backingStorePixelRatio ||\n",
       "        1;\n",
       "\n",
       "    this.ratio = (window.devicePixelRatio || 1) / backingStore;\n",
       "\n",
       "    var rubberband_canvas = (this.rubberband_canvas = document.createElement(\n",
       "        'canvas'\n",
       "    ));\n",
       "    rubberband_canvas.setAttribute(\n",
       "        'style',\n",
       "        'box-sizing: content-box; position: absolute; left: 0; top: 0; z-index: 1;'\n",
       "    );\n",
       "\n",
       "    // Apply a ponyfill if ResizeObserver is not implemented by browser.\n",
       "    if (this.ResizeObserver === undefined) {\n",
       "        if (window.ResizeObserver !== undefined) {\n",
       "            this.ResizeObserver = window.ResizeObserver;\n",
       "        } else {\n",
       "            var obs = _JSXTOOLS_RESIZE_OBSERVER({});\n",
       "            this.ResizeObserver = obs.ResizeObserver;\n",
       "        }\n",
       "    }\n",
       "\n",
       "    this.resizeObserverInstance = new this.ResizeObserver(function (entries) {\n",
       "        var nentries = entries.length;\n",
       "        for (var i = 0; i < nentries; i++) {\n",
       "            var entry = entries[i];\n",
       "            var width, height;\n",
       "            if (entry.contentBoxSize) {\n",
       "                if (entry.contentBoxSize instanceof Array) {\n",
       "                    // Chrome 84 implements new version of spec.\n",
       "                    width = entry.contentBoxSize[0].inlineSize;\n",
       "                    height = entry.contentBoxSize[0].blockSize;\n",
       "                } else {\n",
       "                    // Firefox implements old version of spec.\n",
       "                    width = entry.contentBoxSize.inlineSize;\n",
       "                    height = entry.contentBoxSize.blockSize;\n",
       "                }\n",
       "            } else {\n",
       "                // Chrome <84 implements even older version of spec.\n",
       "                width = entry.contentRect.width;\n",
       "                height = entry.contentRect.height;\n",
       "            }\n",
       "\n",
       "            // Keep the size of the canvas and rubber band canvas in sync with\n",
       "            // the canvas container.\n",
       "            if (entry.devicePixelContentBoxSize) {\n",
       "                // Chrome 84 implements new version of spec.\n",
       "                canvas.setAttribute(\n",
       "                    'width',\n",
       "                    entry.devicePixelContentBoxSize[0].inlineSize\n",
       "                );\n",
       "                canvas.setAttribute(\n",
       "                    'height',\n",
       "                    entry.devicePixelContentBoxSize[0].blockSize\n",
       "                );\n",
       "            } else {\n",
       "                canvas.setAttribute('width', width * fig.ratio);\n",
       "                canvas.setAttribute('height', height * fig.ratio);\n",
       "            }\n",
       "            canvas.setAttribute(\n",
       "                'style',\n",
       "                'width: ' + width + 'px; height: ' + height + 'px;'\n",
       "            );\n",
       "\n",
       "            rubberband_canvas.setAttribute('width', width);\n",
       "            rubberband_canvas.setAttribute('height', height);\n",
       "\n",
       "            // And update the size in Python. We ignore the initial 0/0 size\n",
       "            // that occurs as the element is placed into the DOM, which should\n",
       "            // otherwise not happen due to the minimum size styling.\n",
       "            if (fig.ws.readyState == 1 && width != 0 && height != 0) {\n",
       "                fig.request_resize(width, height);\n",
       "            }\n",
       "        }\n",
       "    });\n",
       "    this.resizeObserverInstance.observe(canvas_div);\n",
       "\n",
       "    function on_mouse_event_closure(name) {\n",
       "        return function (event) {\n",
       "            return fig.mouse_event(event, name);\n",
       "        };\n",
       "    }\n",
       "\n",
       "    rubberband_canvas.addEventListener(\n",
       "        'mousedown',\n",
       "        on_mouse_event_closure('button_press')\n",
       "    );\n",
       "    rubberband_canvas.addEventListener(\n",
       "        'mouseup',\n",
       "        on_mouse_event_closure('button_release')\n",
       "    );\n",
       "    rubberband_canvas.addEventListener(\n",
       "        'dblclick',\n",
       "        on_mouse_event_closure('dblclick')\n",
       "    );\n",
       "    // Throttle sequential mouse events to 1 every 20ms.\n",
       "    rubberband_canvas.addEventListener(\n",
       "        'mousemove',\n",
       "        on_mouse_event_closure('motion_notify')\n",
       "    );\n",
       "\n",
       "    rubberband_canvas.addEventListener(\n",
       "        'mouseenter',\n",
       "        on_mouse_event_closure('figure_enter')\n",
       "    );\n",
       "    rubberband_canvas.addEventListener(\n",
       "        'mouseleave',\n",
       "        on_mouse_event_closure('figure_leave')\n",
       "    );\n",
       "\n",
       "    canvas_div.addEventListener('wheel', function (event) {\n",
       "        if (event.deltaY < 0) {\n",
       "            event.step = 1;\n",
       "        } else {\n",
       "            event.step = -1;\n",
       "        }\n",
       "        on_mouse_event_closure('scroll')(event);\n",
       "    });\n",
       "\n",
       "    canvas_div.appendChild(canvas);\n",
       "    canvas_div.appendChild(rubberband_canvas);\n",
       "\n",
       "    this.rubberband_context = rubberband_canvas.getContext('2d');\n",
       "    this.rubberband_context.strokeStyle = '#000000';\n",
       "\n",
       "    this._resize_canvas = function (width, height, forward) {\n",
       "        if (forward) {\n",
       "            canvas_div.style.width = width + 'px';\n",
       "            canvas_div.style.height = height + 'px';\n",
       "        }\n",
       "    };\n",
       "\n",
       "    // Disable right mouse context menu.\n",
       "    this.rubberband_canvas.addEventListener('contextmenu', function (_e) {\n",
       "        event.preventDefault();\n",
       "        return false;\n",
       "    });\n",
       "\n",
       "    function set_focus() {\n",
       "        canvas.focus();\n",
       "        canvas_div.focus();\n",
       "    }\n",
       "\n",
       "    window.setTimeout(set_focus, 100);\n",
       "};\n",
       "\n",
       "mpl.figure.prototype._init_toolbar = function () {\n",
       "    var fig = this;\n",
       "\n",
       "    var toolbar = document.createElement('div');\n",
       "    toolbar.classList = 'mpl-toolbar';\n",
       "    this.root.appendChild(toolbar);\n",
       "\n",
       "    function on_click_closure(name) {\n",
       "        return function (_event) {\n",
       "            return fig.toolbar_button_onclick(name);\n",
       "        };\n",
       "    }\n",
       "\n",
       "    function on_mouseover_closure(tooltip) {\n",
       "        return function (event) {\n",
       "            if (!event.currentTarget.disabled) {\n",
       "                return fig.toolbar_button_onmouseover(tooltip);\n",
       "            }\n",
       "        };\n",
       "    }\n",
       "\n",
       "    fig.buttons = {};\n",
       "    var buttonGroup = document.createElement('div');\n",
       "    buttonGroup.classList = 'mpl-button-group';\n",
       "    for (var toolbar_ind in mpl.toolbar_items) {\n",
       "        var name = mpl.toolbar_items[toolbar_ind][0];\n",
       "        var tooltip = mpl.toolbar_items[toolbar_ind][1];\n",
       "        var image = mpl.toolbar_items[toolbar_ind][2];\n",
       "        var method_name = mpl.toolbar_items[toolbar_ind][3];\n",
       "\n",
       "        if (!name) {\n",
       "            /* Instead of a spacer, we start a new button group. */\n",
       "            if (buttonGroup.hasChildNodes()) {\n",
       "                toolbar.appendChild(buttonGroup);\n",
       "            }\n",
       "            buttonGroup = document.createElement('div');\n",
       "            buttonGroup.classList = 'mpl-button-group';\n",
       "            continue;\n",
       "        }\n",
       "\n",
       "        var button = (fig.buttons[name] = document.createElement('button'));\n",
       "        button.classList = 'mpl-widget';\n",
       "        button.setAttribute('role', 'button');\n",
       "        button.setAttribute('aria-disabled', 'false');\n",
       "        button.addEventListener('click', on_click_closure(method_name));\n",
       "        button.addEventListener('mouseover', on_mouseover_closure(tooltip));\n",
       "\n",
       "        var icon_img = document.createElement('img');\n",
       "        icon_img.src = '_images/' + image + '.png';\n",
       "        icon_img.srcset = '_images/' + image + '_large.png 2x';\n",
       "        icon_img.alt = tooltip;\n",
       "        button.appendChild(icon_img);\n",
       "\n",
       "        buttonGroup.appendChild(button);\n",
       "    }\n",
       "\n",
       "    if (buttonGroup.hasChildNodes()) {\n",
       "        toolbar.appendChild(buttonGroup);\n",
       "    }\n",
       "\n",
       "    var fmt_picker = document.createElement('select');\n",
       "    fmt_picker.classList = 'mpl-widget';\n",
       "    toolbar.appendChild(fmt_picker);\n",
       "    this.format_dropdown = fmt_picker;\n",
       "\n",
       "    for (var ind in mpl.extensions) {\n",
       "        var fmt = mpl.extensions[ind];\n",
       "        var option = document.createElement('option');\n",
       "        option.selected = fmt === mpl.default_extension;\n",
       "        option.innerHTML = fmt;\n",
       "        fmt_picker.appendChild(option);\n",
       "    }\n",
       "\n",
       "    var status_bar = document.createElement('span');\n",
       "    status_bar.classList = 'mpl-message';\n",
       "    toolbar.appendChild(status_bar);\n",
       "    this.message = status_bar;\n",
       "};\n",
       "\n",
       "mpl.figure.prototype.request_resize = function (x_pixels, y_pixels) {\n",
       "    // Request matplotlib to resize the figure. Matplotlib will then trigger a resize in the client,\n",
       "    // which will in turn request a refresh of the image.\n",
       "    this.send_message('resize', { width: x_pixels, height: y_pixels });\n",
       "};\n",
       "\n",
       "mpl.figure.prototype.send_message = function (type, properties) {\n",
       "    properties['type'] = type;\n",
       "    properties['figure_id'] = this.id;\n",
       "    this.ws.send(JSON.stringify(properties));\n",
       "};\n",
       "\n",
       "mpl.figure.prototype.send_draw_message = function () {\n",
       "    if (!this.waiting) {\n",
       "        this.waiting = true;\n",
       "        this.ws.send(JSON.stringify({ type: 'draw', figure_id: this.id }));\n",
       "    }\n",
       "};\n",
       "\n",
       "mpl.figure.prototype.handle_save = function (fig, _msg) {\n",
       "    var format_dropdown = fig.format_dropdown;\n",
       "    var format = format_dropdown.options[format_dropdown.selectedIndex].value;\n",
       "    fig.ondownload(fig, format);\n",
       "};\n",
       "\n",
       "mpl.figure.prototype.handle_resize = function (fig, msg) {\n",
       "    var size = msg['size'];\n",
       "    if (size[0] !== fig.canvas.width || size[1] !== fig.canvas.height) {\n",
       "        fig._resize_canvas(size[0], size[1], msg['forward']);\n",
       "        fig.send_message('refresh', {});\n",
       "    }\n",
       "};\n",
       "\n",
       "mpl.figure.prototype.handle_rubberband = function (fig, msg) {\n",
       "    var x0 = msg['x0'] / fig.ratio;\n",
       "    var y0 = (fig.canvas.height - msg['y0']) / fig.ratio;\n",
       "    var x1 = msg['x1'] / fig.ratio;\n",
       "    var y1 = (fig.canvas.height - msg['y1']) / fig.ratio;\n",
       "    x0 = Math.floor(x0) + 0.5;\n",
       "    y0 = Math.floor(y0) + 0.5;\n",
       "    x1 = Math.floor(x1) + 0.5;\n",
       "    y1 = Math.floor(y1) + 0.5;\n",
       "    var min_x = Math.min(x0, x1);\n",
       "    var min_y = Math.min(y0, y1);\n",
       "    var width = Math.abs(x1 - x0);\n",
       "    var height = Math.abs(y1 - y0);\n",
       "\n",
       "    fig.rubberband_context.clearRect(\n",
       "        0,\n",
       "        0,\n",
       "        fig.canvas.width / fig.ratio,\n",
       "        fig.canvas.height / fig.ratio\n",
       "    );\n",
       "\n",
       "    fig.rubberband_context.strokeRect(min_x, min_y, width, height);\n",
       "};\n",
       "\n",
       "mpl.figure.prototype.handle_figure_label = function (fig, msg) {\n",
       "    // Updates the figure title.\n",
       "    fig.header.textContent = msg['label'];\n",
       "};\n",
       "\n",
       "mpl.figure.prototype.handle_cursor = function (fig, msg) {\n",
       "    var cursor = msg['cursor'];\n",
       "    switch (cursor) {\n",
       "        case 0:\n",
       "            cursor = 'pointer';\n",
       "            break;\n",
       "        case 1:\n",
       "            cursor = 'default';\n",
       "            break;\n",
       "        case 2:\n",
       "            cursor = 'crosshair';\n",
       "            break;\n",
       "        case 3:\n",
       "            cursor = 'move';\n",
       "            break;\n",
       "    }\n",
       "    fig.rubberband_canvas.style.cursor = cursor;\n",
       "};\n",
       "\n",
       "mpl.figure.prototype.handle_message = function (fig, msg) {\n",
       "    fig.message.textContent = msg['message'];\n",
       "};\n",
       "\n",
       "mpl.figure.prototype.handle_draw = function (fig, _msg) {\n",
       "    // Request the server to send over a new figure.\n",
       "    fig.send_draw_message();\n",
       "};\n",
       "\n",
       "mpl.figure.prototype.handle_image_mode = function (fig, msg) {\n",
       "    fig.image_mode = msg['mode'];\n",
       "};\n",
       "\n",
       "mpl.figure.prototype.handle_history_buttons = function (fig, msg) {\n",
       "    for (var key in msg) {\n",
       "        if (!(key in fig.buttons)) {\n",
       "            continue;\n",
       "        }\n",
       "        fig.buttons[key].disabled = !msg[key];\n",
       "        fig.buttons[key].setAttribute('aria-disabled', !msg[key]);\n",
       "    }\n",
       "};\n",
       "\n",
       "mpl.figure.prototype.handle_navigate_mode = function (fig, msg) {\n",
       "    if (msg['mode'] === 'PAN') {\n",
       "        fig.buttons['Pan'].classList.add('active');\n",
       "        fig.buttons['Zoom'].classList.remove('active');\n",
       "    } else if (msg['mode'] === 'ZOOM') {\n",
       "        fig.buttons['Pan'].classList.remove('active');\n",
       "        fig.buttons['Zoom'].classList.add('active');\n",
       "    } else {\n",
       "        fig.buttons['Pan'].classList.remove('active');\n",
       "        fig.buttons['Zoom'].classList.remove('active');\n",
       "    }\n",
       "};\n",
       "\n",
       "mpl.figure.prototype.updated_canvas_event = function () {\n",
       "    // Called whenever the canvas gets updated.\n",
       "    this.send_message('ack', {});\n",
       "};\n",
       "\n",
       "// A function to construct a web socket function for onmessage handling.\n",
       "// Called in the figure constructor.\n",
       "mpl.figure.prototype._make_on_message_function = function (fig) {\n",
       "    return function socket_on_message(evt) {\n",
       "        if (evt.data instanceof Blob) {\n",
       "            var img = evt.data;\n",
       "            if (img.type !== 'image/png') {\n",
       "                /* FIXME: We get \"Resource interpreted as Image but\n",
       "                 * transferred with MIME type text/plain:\" errors on\n",
       "                 * Chrome.  But how to set the MIME type?  It doesn't seem\n",
       "                 * to be part of the websocket stream */\n",
       "                img.type = 'image/png';\n",
       "            }\n",
       "\n",
       "            /* Free the memory for the previous frames */\n",
       "            if (fig.imageObj.src) {\n",
       "                (window.URL || window.webkitURL).revokeObjectURL(\n",
       "                    fig.imageObj.src\n",
       "                );\n",
       "            }\n",
       "\n",
       "            fig.imageObj.src = (window.URL || window.webkitURL).createObjectURL(\n",
       "                img\n",
       "            );\n",
       "            fig.updated_canvas_event();\n",
       "            fig.waiting = false;\n",
       "            return;\n",
       "        } else if (\n",
       "            typeof evt.data === 'string' &&\n",
       "            evt.data.slice(0, 21) === 'data:image/png;base64'\n",
       "        ) {\n",
       "            fig.imageObj.src = evt.data;\n",
       "            fig.updated_canvas_event();\n",
       "            fig.waiting = false;\n",
       "            return;\n",
       "        }\n",
       "\n",
       "        var msg = JSON.parse(evt.data);\n",
       "        var msg_type = msg['type'];\n",
       "\n",
       "        // Call the  \"handle_{type}\" callback, which takes\n",
       "        // the figure and JSON message as its only arguments.\n",
       "        try {\n",
       "            var callback = fig['handle_' + msg_type];\n",
       "        } catch (e) {\n",
       "            console.log(\n",
       "                \"No handler for the '\" + msg_type + \"' message type: \",\n",
       "                msg\n",
       "            );\n",
       "            return;\n",
       "        }\n",
       "\n",
       "        if (callback) {\n",
       "            try {\n",
       "                // console.log(\"Handling '\" + msg_type + \"' message: \", msg);\n",
       "                callback(fig, msg);\n",
       "            } catch (e) {\n",
       "                console.log(\n",
       "                    \"Exception inside the 'handler_\" + msg_type + \"' callback:\",\n",
       "                    e,\n",
       "                    e.stack,\n",
       "                    msg\n",
       "                );\n",
       "            }\n",
       "        }\n",
       "    };\n",
       "};\n",
       "\n",
       "// from http://stackoverflow.com/questions/1114465/getting-mouse-location-in-canvas\n",
       "mpl.findpos = function (e) {\n",
       "    //this section is from http://www.quirksmode.org/js/events_properties.html\n",
       "    var targ;\n",
       "    if (!e) {\n",
       "        e = window.event;\n",
       "    }\n",
       "    if (e.target) {\n",
       "        targ = e.target;\n",
       "    } else if (e.srcElement) {\n",
       "        targ = e.srcElement;\n",
       "    }\n",
       "    if (targ.nodeType === 3) {\n",
       "        // defeat Safari bug\n",
       "        targ = targ.parentNode;\n",
       "    }\n",
       "\n",
       "    // pageX,Y are the mouse positions relative to the document\n",
       "    var boundingRect = targ.getBoundingClientRect();\n",
       "    var x = e.pageX - (boundingRect.left + document.body.scrollLeft);\n",
       "    var y = e.pageY - (boundingRect.top + document.body.scrollTop);\n",
       "\n",
       "    return { x: x, y: y };\n",
       "};\n",
       "\n",
       "/*\n",
       " * return a copy of an object with only non-object keys\n",
       " * we need this to avoid circular references\n",
       " * http://stackoverflow.com/a/24161582/3208463\n",
       " */\n",
       "function simpleKeys(original) {\n",
       "    return Object.keys(original).reduce(function (obj, key) {\n",
       "        if (typeof original[key] !== 'object') {\n",
       "            obj[key] = original[key];\n",
       "        }\n",
       "        return obj;\n",
       "    }, {});\n",
       "}\n",
       "\n",
       "mpl.figure.prototype.mouse_event = function (event, name) {\n",
       "    var canvas_pos = mpl.findpos(event);\n",
       "\n",
       "    if (name === 'button_press') {\n",
       "        this.canvas.focus();\n",
       "        this.canvas_div.focus();\n",
       "    }\n",
       "\n",
       "    var x = canvas_pos.x * this.ratio;\n",
       "    var y = canvas_pos.y * this.ratio;\n",
       "\n",
       "    this.send_message(name, {\n",
       "        x: x,\n",
       "        y: y,\n",
       "        button: event.button,\n",
       "        step: event.step,\n",
       "        guiEvent: simpleKeys(event),\n",
       "    });\n",
       "\n",
       "    /* This prevents the web browser from automatically changing to\n",
       "     * the text insertion cursor when the button is pressed.  We want\n",
       "     * to control all of the cursor setting manually through the\n",
       "     * 'cursor' event from matplotlib */\n",
       "    event.preventDefault();\n",
       "    return false;\n",
       "};\n",
       "\n",
       "mpl.figure.prototype._key_event_extra = function (_event, _name) {\n",
       "    // Handle any extra behaviour associated with a key event\n",
       "};\n",
       "\n",
       "mpl.figure.prototype.key_event = function (event, name) {\n",
       "    // Prevent repeat events\n",
       "    if (name === 'key_press') {\n",
       "        if (event.key === this._key) {\n",
       "            return;\n",
       "        } else {\n",
       "            this._key = event.key;\n",
       "        }\n",
       "    }\n",
       "    if (name === 'key_release') {\n",
       "        this._key = null;\n",
       "    }\n",
       "\n",
       "    var value = '';\n",
       "    if (event.ctrlKey && event.key !== 'Control') {\n",
       "        value += 'ctrl+';\n",
       "    }\n",
       "    else if (event.altKey && event.key !== 'Alt') {\n",
       "        value += 'alt+';\n",
       "    }\n",
       "    else if (event.shiftKey && event.key !== 'Shift') {\n",
       "        value += 'shift+';\n",
       "    }\n",
       "\n",
       "    value += 'k' + event.key;\n",
       "\n",
       "    this._key_event_extra(event, name);\n",
       "\n",
       "    this.send_message(name, { key: value, guiEvent: simpleKeys(event) });\n",
       "    return false;\n",
       "};\n",
       "\n",
       "mpl.figure.prototype.toolbar_button_onclick = function (name) {\n",
       "    if (name === 'download') {\n",
       "        this.handle_save(this, null);\n",
       "    } else {\n",
       "        this.send_message('toolbar_button', { name: name });\n",
       "    }\n",
       "};\n",
       "\n",
       "mpl.figure.prototype.toolbar_button_onmouseover = function (tooltip) {\n",
       "    this.message.textContent = tooltip;\n",
       "};\n",
       "\n",
       "///////////////// REMAINING CONTENT GENERATED BY embed_js.py /////////////////\n",
       "// prettier-ignore\n",
       "var _JSXTOOLS_RESIZE_OBSERVER=function(A){var t,i=new WeakMap,n=new WeakMap,a=new WeakMap,r=new WeakMap,o=new Set;function s(e){if(!(this instanceof s))throw new TypeError(\"Constructor requires 'new' operator\");i.set(this,e)}function h(){throw new TypeError(\"Function is not a constructor\")}function c(e,t,i,n){e=0 in arguments?Number(arguments[0]):0,t=1 in arguments?Number(arguments[1]):0,i=2 in arguments?Number(arguments[2]):0,n=3 in arguments?Number(arguments[3]):0,this.right=(this.x=this.left=e)+(this.width=i),this.bottom=(this.y=this.top=t)+(this.height=n),Object.freeze(this)}function d(){t=requestAnimationFrame(d);var s=new WeakMap,p=new Set;o.forEach((function(t){r.get(t).forEach((function(i){var r=t instanceof window.SVGElement,o=a.get(t),d=r?0:parseFloat(o.paddingTop),f=r?0:parseFloat(o.paddingRight),l=r?0:parseFloat(o.paddingBottom),u=r?0:parseFloat(o.paddingLeft),g=r?0:parseFloat(o.borderTopWidth),m=r?0:parseFloat(o.borderRightWidth),w=r?0:parseFloat(o.borderBottomWidth),b=u+f,F=d+l,v=(r?0:parseFloat(o.borderLeftWidth))+m,W=g+w,y=r?0:t.offsetHeight-W-t.clientHeight,E=r?0:t.offsetWidth-v-t.clientWidth,R=b+v,z=F+W,M=r?t.width:parseFloat(o.width)-R-E,O=r?t.height:parseFloat(o.height)-z-y;if(n.has(t)){var k=n.get(t);if(k[0]===M&&k[1]===O)return}n.set(t,[M,O]);var S=Object.create(h.prototype);S.target=t,S.contentRect=new c(u,d,M,O),s.has(i)||(s.set(i,[]),p.add(i)),s.get(i).push(S)}))})),p.forEach((function(e){i.get(e).call(e,s.get(e),e)}))}return s.prototype.observe=function(i){if(i instanceof window.Element){r.has(i)||(r.set(i,new Set),o.add(i),a.set(i,window.getComputedStyle(i)));var n=r.get(i);n.has(this)||n.add(this),cancelAnimationFrame(t),t=requestAnimationFrame(d)}},s.prototype.unobserve=function(i){if(i instanceof window.Element&&r.has(i)){var n=r.get(i);n.has(this)&&(n.delete(this),n.size||(r.delete(i),o.delete(i))),n.size||r.delete(i),o.size||cancelAnimationFrame(t)}},A.DOMRectReadOnly=c,A.ResizeObserver=s,A.ResizeObserverEntry=h,A}; // eslint-disable-line\n",
       "mpl.toolbar_items = [[\"Home\", \"Reset original view\", \"fa fa-home icon-home\", \"home\"], [\"Back\", \"Back to previous view\", \"fa fa-arrow-left icon-arrow-left\", \"back\"], [\"Forward\", \"Forward to next view\", \"fa fa-arrow-right icon-arrow-right\", \"forward\"], [\"\", \"\", \"\", \"\"], [\"Pan\", \"Left button pans, Right button zooms\\nx/y fixes axis, CTRL fixes aspect\", \"fa fa-arrows icon-move\", \"pan\"], [\"Zoom\", \"Zoom to rectangle\\nx/y fixes axis, CTRL fixes aspect\", \"fa fa-square-o icon-check-empty\", \"zoom\"], [\"\", \"\", \"\", \"\"], [\"Download\", \"Download plot\", \"fa fa-floppy-o icon-save\", \"download\"]];\n",
       "\n",
       "mpl.extensions = [\"eps\", \"jpeg\", \"pgf\", \"pdf\", \"png\", \"ps\", \"raw\", \"svg\", \"tif\"];\n",
       "\n",
       "mpl.default_extension = \"png\";/* global mpl */\n",
       "\n",
       "var comm_websocket_adapter = function (comm) {\n",
       "    // Create a \"websocket\"-like object which calls the given IPython comm\n",
       "    // object with the appropriate methods. Currently this is a non binary\n",
       "    // socket, so there is still some room for performance tuning.\n",
       "    var ws = {};\n",
       "\n",
       "    ws.binaryType = comm.kernel.ws.binaryType;\n",
       "    ws.readyState = comm.kernel.ws.readyState;\n",
       "    function updateReadyState(_event) {\n",
       "        if (comm.kernel.ws) {\n",
       "            ws.readyState = comm.kernel.ws.readyState;\n",
       "        } else {\n",
       "            ws.readyState = 3; // Closed state.\n",
       "        }\n",
       "    }\n",
       "    comm.kernel.ws.addEventListener('open', updateReadyState);\n",
       "    comm.kernel.ws.addEventListener('close', updateReadyState);\n",
       "    comm.kernel.ws.addEventListener('error', updateReadyState);\n",
       "\n",
       "    ws.close = function () {\n",
       "        comm.close();\n",
       "    };\n",
       "    ws.send = function (m) {\n",
       "        //console.log('sending', m);\n",
       "        comm.send(m);\n",
       "    };\n",
       "    // Register the callback with on_msg.\n",
       "    comm.on_msg(function (msg) {\n",
       "        //console.log('receiving', msg['content']['data'], msg);\n",
       "        var data = msg['content']['data'];\n",
       "        if (data['blob'] !== undefined) {\n",
       "            data = {\n",
       "                data: new Blob(msg['buffers'], { type: data['blob'] }),\n",
       "            };\n",
       "        }\n",
       "        // Pass the mpl event to the overridden (by mpl) onmessage function.\n",
       "        ws.onmessage(data);\n",
       "    });\n",
       "    return ws;\n",
       "};\n",
       "\n",
       "mpl.mpl_figure_comm = function (comm, msg) {\n",
       "    // This is the function which gets called when the mpl process\n",
       "    // starts-up an IPython Comm through the \"matplotlib\" channel.\n",
       "\n",
       "    var id = msg.content.data.id;\n",
       "    // Get hold of the div created by the display call when the Comm\n",
       "    // socket was opened in Python.\n",
       "    var element = document.getElementById(id);\n",
       "    var ws_proxy = comm_websocket_adapter(comm);\n",
       "\n",
       "    function ondownload(figure, _format) {\n",
       "        window.open(figure.canvas.toDataURL());\n",
       "    }\n",
       "\n",
       "    var fig = new mpl.figure(id, ws_proxy, ondownload, element);\n",
       "\n",
       "    // Call onopen now - mpl needs it, as it is assuming we've passed it a real\n",
       "    // web socket which is closed, not our websocket->open comm proxy.\n",
       "    ws_proxy.onopen();\n",
       "\n",
       "    fig.parent_element = element;\n",
       "    fig.cell_info = mpl.find_output_cell(\"<div id='\" + id + \"'></div>\");\n",
       "    if (!fig.cell_info) {\n",
       "        console.error('Failed to find cell for figure', id, fig);\n",
       "        return;\n",
       "    }\n",
       "    fig.cell_info[0].output_area.element.on(\n",
       "        'cleared',\n",
       "        { fig: fig },\n",
       "        fig._remove_fig_handler\n",
       "    );\n",
       "};\n",
       "\n",
       "mpl.figure.prototype.handle_close = function (fig, msg) {\n",
       "    var width = fig.canvas.width / fig.ratio;\n",
       "    fig.cell_info[0].output_area.element.off(\n",
       "        'cleared',\n",
       "        fig._remove_fig_handler\n",
       "    );\n",
       "    fig.resizeObserverInstance.unobserve(fig.canvas_div);\n",
       "\n",
       "    // Update the output cell to use the data from the current canvas.\n",
       "    fig.push_to_output();\n",
       "    var dataURL = fig.canvas.toDataURL();\n",
       "    // Re-enable the keyboard manager in IPython - without this line, in FF,\n",
       "    // the notebook keyboard shortcuts fail.\n",
       "    IPython.keyboard_manager.enable();\n",
       "    fig.parent_element.innerHTML =\n",
       "        '<img src=\"' + dataURL + '\" width=\"' + width + '\">';\n",
       "    fig.close_ws(fig, msg);\n",
       "};\n",
       "\n",
       "mpl.figure.prototype.close_ws = function (fig, msg) {\n",
       "    fig.send_message('closing', msg);\n",
       "    // fig.ws.close()\n",
       "};\n",
       "\n",
       "mpl.figure.prototype.push_to_output = function (_remove_interactive) {\n",
       "    // Turn the data on the canvas into data in the output cell.\n",
       "    var width = this.canvas.width / this.ratio;\n",
       "    var dataURL = this.canvas.toDataURL();\n",
       "    this.cell_info[1]['text/html'] =\n",
       "        '<img src=\"' + dataURL + '\" width=\"' + width + '\">';\n",
       "};\n",
       "\n",
       "mpl.figure.prototype.updated_canvas_event = function () {\n",
       "    // Tell IPython that the notebook contents must change.\n",
       "    IPython.notebook.set_dirty(true);\n",
       "    this.send_message('ack', {});\n",
       "    var fig = this;\n",
       "    // Wait a second, then push the new image to the DOM so\n",
       "    // that it is saved nicely (might be nice to debounce this).\n",
       "    setTimeout(function () {\n",
       "        fig.push_to_output();\n",
       "    }, 1000);\n",
       "};\n",
       "\n",
       "mpl.figure.prototype._init_toolbar = function () {\n",
       "    var fig = this;\n",
       "\n",
       "    var toolbar = document.createElement('div');\n",
       "    toolbar.classList = 'btn-toolbar';\n",
       "    this.root.appendChild(toolbar);\n",
       "\n",
       "    function on_click_closure(name) {\n",
       "        return function (_event) {\n",
       "            return fig.toolbar_button_onclick(name);\n",
       "        };\n",
       "    }\n",
       "\n",
       "    function on_mouseover_closure(tooltip) {\n",
       "        return function (event) {\n",
       "            if (!event.currentTarget.disabled) {\n",
       "                return fig.toolbar_button_onmouseover(tooltip);\n",
       "            }\n",
       "        };\n",
       "    }\n",
       "\n",
       "    fig.buttons = {};\n",
       "    var buttonGroup = document.createElement('div');\n",
       "    buttonGroup.classList = 'btn-group';\n",
       "    var button;\n",
       "    for (var toolbar_ind in mpl.toolbar_items) {\n",
       "        var name = mpl.toolbar_items[toolbar_ind][0];\n",
       "        var tooltip = mpl.toolbar_items[toolbar_ind][1];\n",
       "        var image = mpl.toolbar_items[toolbar_ind][2];\n",
       "        var method_name = mpl.toolbar_items[toolbar_ind][3];\n",
       "\n",
       "        if (!name) {\n",
       "            /* Instead of a spacer, we start a new button group. */\n",
       "            if (buttonGroup.hasChildNodes()) {\n",
       "                toolbar.appendChild(buttonGroup);\n",
       "            }\n",
       "            buttonGroup = document.createElement('div');\n",
       "            buttonGroup.classList = 'btn-group';\n",
       "            continue;\n",
       "        }\n",
       "\n",
       "        button = fig.buttons[name] = document.createElement('button');\n",
       "        button.classList = 'btn btn-default';\n",
       "        button.href = '#';\n",
       "        button.title = name;\n",
       "        button.innerHTML = '<i class=\"fa ' + image + ' fa-lg\"></i>';\n",
       "        button.addEventListener('click', on_click_closure(method_name));\n",
       "        button.addEventListener('mouseover', on_mouseover_closure(tooltip));\n",
       "        buttonGroup.appendChild(button);\n",
       "    }\n",
       "\n",
       "    if (buttonGroup.hasChildNodes()) {\n",
       "        toolbar.appendChild(buttonGroup);\n",
       "    }\n",
       "\n",
       "    // Add the status bar.\n",
       "    var status_bar = document.createElement('span');\n",
       "    status_bar.classList = 'mpl-message pull-right';\n",
       "    toolbar.appendChild(status_bar);\n",
       "    this.message = status_bar;\n",
       "\n",
       "    // Add the close button to the window.\n",
       "    var buttongrp = document.createElement('div');\n",
       "    buttongrp.classList = 'btn-group inline pull-right';\n",
       "    button = document.createElement('button');\n",
       "    button.classList = 'btn btn-mini btn-primary';\n",
       "    button.href = '#';\n",
       "    button.title = 'Stop Interaction';\n",
       "    button.innerHTML = '<i class=\"fa fa-power-off icon-remove icon-large\"></i>';\n",
       "    button.addEventListener('click', function (_evt) {\n",
       "        fig.handle_close(fig, {});\n",
       "    });\n",
       "    button.addEventListener(\n",
       "        'mouseover',\n",
       "        on_mouseover_closure('Stop Interaction')\n",
       "    );\n",
       "    buttongrp.appendChild(button);\n",
       "    var titlebar = this.root.querySelector('.ui-dialog-titlebar');\n",
       "    titlebar.insertBefore(buttongrp, titlebar.firstChild);\n",
       "};\n",
       "\n",
       "mpl.figure.prototype._remove_fig_handler = function (event) {\n",
       "    var fig = event.data.fig;\n",
       "    if (event.target !== this) {\n",
       "        // Ignore bubbled events from children.\n",
       "        return;\n",
       "    }\n",
       "    fig.close_ws(fig, {});\n",
       "};\n",
       "\n",
       "mpl.figure.prototype._root_extra_style = function (el) {\n",
       "    el.style.boxSizing = 'content-box'; // override notebook setting of border-box.\n",
       "};\n",
       "\n",
       "mpl.figure.prototype._canvas_extra_style = function (el) {\n",
       "    // this is important to make the div 'focusable\n",
       "    el.setAttribute('tabindex', 0);\n",
       "    // reach out to IPython and tell the keyboard manager to turn it's self\n",
       "    // off when our div gets focus\n",
       "\n",
       "    // location in version 3\n",
       "    if (IPython.notebook.keyboard_manager) {\n",
       "        IPython.notebook.keyboard_manager.register_events(el);\n",
       "    } else {\n",
       "        // location in version 2\n",
       "        IPython.keyboard_manager.register_events(el);\n",
       "    }\n",
       "};\n",
       "\n",
       "mpl.figure.prototype._key_event_extra = function (event, _name) {\n",
       "    var manager = IPython.notebook.keyboard_manager;\n",
       "    if (!manager) {\n",
       "        manager = IPython.keyboard_manager;\n",
       "    }\n",
       "\n",
       "    // Check for shift+enter\n",
       "    if (event.shiftKey && event.which === 13) {\n",
       "        this.canvas_div.blur();\n",
       "        // select the cell after this one\n",
       "        var index = IPython.notebook.find_cell_index(this.cell_info[0]);\n",
       "        IPython.notebook.select(index + 1);\n",
       "    }\n",
       "};\n",
       "\n",
       "mpl.figure.prototype.handle_save = function (fig, _msg) {\n",
       "    fig.ondownload(fig, null);\n",
       "};\n",
       "\n",
       "mpl.find_output_cell = function (html_output) {\n",
       "    // Return the cell and output element which can be found *uniquely* in the notebook.\n",
       "    // Note - this is a bit hacky, but it is done because the \"notebook_saving.Notebook\"\n",
       "    // IPython event is triggered only after the cells have been serialised, which for\n",
       "    // our purposes (turning an active figure into a static one), is too late.\n",
       "    var cells = IPython.notebook.get_cells();\n",
       "    var ncells = cells.length;\n",
       "    for (var i = 0; i < ncells; i++) {\n",
       "        var cell = cells[i];\n",
       "        if (cell.cell_type === 'code') {\n",
       "            for (var j = 0; j < cell.output_area.outputs.length; j++) {\n",
       "                var data = cell.output_area.outputs[j];\n",
       "                if (data.data) {\n",
       "                    // IPython >= 3 moved mimebundle to data attribute of output\n",
       "                    data = data.data;\n",
       "                }\n",
       "                if (data['text/html'] === html_output) {\n",
       "                    return [cell, data, j];\n",
       "                }\n",
       "            }\n",
       "        }\n",
       "    }\n",
       "};\n",
       "\n",
       "// Register the function which deals with the matplotlib target/channel.\n",
       "// The kernel may be null if the page has been refreshed.\n",
       "if (IPython.notebook.kernel !== null) {\n",
       "    IPython.notebook.kernel.comm_manager.register_target(\n",
       "        'matplotlib',\n",
       "        mpl.mpl_figure_comm\n",
       "    );\n",
       "}\n"
      ],
      "text/plain": [
       "<IPython.core.display.Javascript object>"
      ]
     },
     "metadata": {},
     "output_type": "display_data"
    },
    {
     "data": {
      "text/html": [
       "<img src=\"data:image/png;base64,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\" width=\"720\">"
      ],
      "text/plain": [
       "<IPython.core.display.HTML object>"
      ]
     },
     "metadata": {},
     "output_type": "display_data"
    }
   ],
   "source": [
    "plt.figure(figsize=(10,8))\n",
    "sns.scatterplot(x = ln.Quantity, y = ln.Revenue)\n",
    "plt.show()"
   ]
  },
  {
   "cell_type": "markdown",
   "metadata": {},
   "source": [
    "## The below exercises (81-90) required to use FMCG_Company_Data_2019.csv file"
   ]
  },
  {
   "cell_type": "markdown",
   "metadata": {},
   "source": [
    "### 81. Import the dataset FMCG_Company_Data_2019.csv and assign it to a variable called company_data"
   ]
  },
  {
   "cell_type": "code",
   "execution_count": 87,
   "metadata": {},
   "outputs": [],
   "source": [
    "company_data = pd.read_csv('C:/Users/Nithin/Downloads/Basic Data Manipulation - Visualization Exercise 2/Exercise Data Files/FMCG_Company_Data_2019.csv')"
   ]
  },
  {
   "cell_type": "markdown",
   "metadata": {},
   "source": [
    "### 82. Create line chart for Total Revenue of all months with following properties\n",
    "- X label name = Month\n",
    "- Y label name = Total Revenue"
   ]
  },
  {
   "cell_type": "code",
   "execution_count": 95,
   "metadata": {},
   "outputs": [],
   "source": [
    "company_data.Month =pd.to_datetime(company_data.Month,format= '%b-%y')"
   ]
  },
  {
   "cell_type": "code",
   "execution_count": 107,
   "metadata": {},
   "outputs": [
    {
     "data": {
      "application/javascript": [
       "/* Put everything inside the global mpl namespace */\n",
       "/* global mpl */\n",
       "window.mpl = {};\n",
       "\n",
       "mpl.get_websocket_type = function () {\n",
       "    if (typeof WebSocket !== 'undefined') {\n",
       "        return WebSocket;\n",
       "    } else if (typeof MozWebSocket !== 'undefined') {\n",
       "        return MozWebSocket;\n",
       "    } else {\n",
       "        alert(\n",
       "            'Your browser does not have WebSocket support. ' +\n",
       "                'Please try Chrome, Safari or Firefox ≥ 6. ' +\n",
       "                'Firefox 4 and 5 are also supported but you ' +\n",
       "                'have to enable WebSockets in about:config.'\n",
       "        );\n",
       "    }\n",
       "};\n",
       "\n",
       "mpl.figure = function (figure_id, websocket, ondownload, parent_element) {\n",
       "    this.id = figure_id;\n",
       "\n",
       "    this.ws = websocket;\n",
       "\n",
       "    this.supports_binary = this.ws.binaryType !== undefined;\n",
       "\n",
       "    if (!this.supports_binary) {\n",
       "        var warnings = document.getElementById('mpl-warnings');\n",
       "        if (warnings) {\n",
       "            warnings.style.display = 'block';\n",
       "            warnings.textContent =\n",
       "                'This browser does not support binary websocket messages. ' +\n",
       "                'Performance may be slow.';\n",
       "        }\n",
       "    }\n",
       "\n",
       "    this.imageObj = new Image();\n",
       "\n",
       "    this.context = undefined;\n",
       "    this.message = undefined;\n",
       "    this.canvas = undefined;\n",
       "    this.rubberband_canvas = undefined;\n",
       "    this.rubberband_context = undefined;\n",
       "    this.format_dropdown = undefined;\n",
       "\n",
       "    this.image_mode = 'full';\n",
       "\n",
       "    this.root = document.createElement('div');\n",
       "    this.root.setAttribute('style', 'display: inline-block');\n",
       "    this._root_extra_style(this.root);\n",
       "\n",
       "    parent_element.appendChild(this.root);\n",
       "\n",
       "    this._init_header(this);\n",
       "    this._init_canvas(this);\n",
       "    this._init_toolbar(this);\n",
       "\n",
       "    var fig = this;\n",
       "\n",
       "    this.waiting = false;\n",
       "\n",
       "    this.ws.onopen = function () {\n",
       "        fig.send_message('supports_binary', { value: fig.supports_binary });\n",
       "        fig.send_message('send_image_mode', {});\n",
       "        if (fig.ratio !== 1) {\n",
       "            fig.send_message('set_dpi_ratio', { dpi_ratio: fig.ratio });\n",
       "        }\n",
       "        fig.send_message('refresh', {});\n",
       "    };\n",
       "\n",
       "    this.imageObj.onload = function () {\n",
       "        if (fig.image_mode === 'full') {\n",
       "            // Full images could contain transparency (where diff images\n",
       "            // almost always do), so we need to clear the canvas so that\n",
       "            // there is no ghosting.\n",
       "            fig.context.clearRect(0, 0, fig.canvas.width, fig.canvas.height);\n",
       "        }\n",
       "        fig.context.drawImage(fig.imageObj, 0, 0);\n",
       "    };\n",
       "\n",
       "    this.imageObj.onunload = function () {\n",
       "        fig.ws.close();\n",
       "    };\n",
       "\n",
       "    this.ws.onmessage = this._make_on_message_function(this);\n",
       "\n",
       "    this.ondownload = ondownload;\n",
       "};\n",
       "\n",
       "mpl.figure.prototype._init_header = function () {\n",
       "    var titlebar = document.createElement('div');\n",
       "    titlebar.classList =\n",
       "        'ui-dialog-titlebar ui-widget-header ui-corner-all ui-helper-clearfix';\n",
       "    var titletext = document.createElement('div');\n",
       "    titletext.classList = 'ui-dialog-title';\n",
       "    titletext.setAttribute(\n",
       "        'style',\n",
       "        'width: 100%; text-align: center; padding: 3px;'\n",
       "    );\n",
       "    titlebar.appendChild(titletext);\n",
       "    this.root.appendChild(titlebar);\n",
       "    this.header = titletext;\n",
       "};\n",
       "\n",
       "mpl.figure.prototype._canvas_extra_style = function (_canvas_div) {};\n",
       "\n",
       "mpl.figure.prototype._root_extra_style = function (_canvas_div) {};\n",
       "\n",
       "mpl.figure.prototype._init_canvas = function () {\n",
       "    var fig = this;\n",
       "\n",
       "    var canvas_div = (this.canvas_div = document.createElement('div'));\n",
       "    canvas_div.setAttribute(\n",
       "        'style',\n",
       "        'border: 1px solid #ddd;' +\n",
       "            'box-sizing: content-box;' +\n",
       "            'clear: both;' +\n",
       "            'min-height: 1px;' +\n",
       "            'min-width: 1px;' +\n",
       "            'outline: 0;' +\n",
       "            'overflow: hidden;' +\n",
       "            'position: relative;' +\n",
       "            'resize: both;'\n",
       "    );\n",
       "\n",
       "    function on_keyboard_event_closure(name) {\n",
       "        return function (event) {\n",
       "            return fig.key_event(event, name);\n",
       "        };\n",
       "    }\n",
       "\n",
       "    canvas_div.addEventListener(\n",
       "        'keydown',\n",
       "        on_keyboard_event_closure('key_press')\n",
       "    );\n",
       "    canvas_div.addEventListener(\n",
       "        'keyup',\n",
       "        on_keyboard_event_closure('key_release')\n",
       "    );\n",
       "\n",
       "    this._canvas_extra_style(canvas_div);\n",
       "    this.root.appendChild(canvas_div);\n",
       "\n",
       "    var canvas = (this.canvas = document.createElement('canvas'));\n",
       "    canvas.classList.add('mpl-canvas');\n",
       "    canvas.setAttribute('style', 'box-sizing: content-box;');\n",
       "\n",
       "    this.context = canvas.getContext('2d');\n",
       "\n",
       "    var backingStore =\n",
       "        this.context.backingStorePixelRatio ||\n",
       "        this.context.webkitBackingStorePixelRatio ||\n",
       "        this.context.mozBackingStorePixelRatio ||\n",
       "        this.context.msBackingStorePixelRatio ||\n",
       "        this.context.oBackingStorePixelRatio ||\n",
       "        this.context.backingStorePixelRatio ||\n",
       "        1;\n",
       "\n",
       "    this.ratio = (window.devicePixelRatio || 1) / backingStore;\n",
       "\n",
       "    var rubberband_canvas = (this.rubberband_canvas = document.createElement(\n",
       "        'canvas'\n",
       "    ));\n",
       "    rubberband_canvas.setAttribute(\n",
       "        'style',\n",
       "        'box-sizing: content-box; position: absolute; left: 0; top: 0; z-index: 1;'\n",
       "    );\n",
       "\n",
       "    // Apply a ponyfill if ResizeObserver is not implemented by browser.\n",
       "    if (this.ResizeObserver === undefined) {\n",
       "        if (window.ResizeObserver !== undefined) {\n",
       "            this.ResizeObserver = window.ResizeObserver;\n",
       "        } else {\n",
       "            var obs = _JSXTOOLS_RESIZE_OBSERVER({});\n",
       "            this.ResizeObserver = obs.ResizeObserver;\n",
       "        }\n",
       "    }\n",
       "\n",
       "    this.resizeObserverInstance = new this.ResizeObserver(function (entries) {\n",
       "        var nentries = entries.length;\n",
       "        for (var i = 0; i < nentries; i++) {\n",
       "            var entry = entries[i];\n",
       "            var width, height;\n",
       "            if (entry.contentBoxSize) {\n",
       "                if (entry.contentBoxSize instanceof Array) {\n",
       "                    // Chrome 84 implements new version of spec.\n",
       "                    width = entry.contentBoxSize[0].inlineSize;\n",
       "                    height = entry.contentBoxSize[0].blockSize;\n",
       "                } else {\n",
       "                    // Firefox implements old version of spec.\n",
       "                    width = entry.contentBoxSize.inlineSize;\n",
       "                    height = entry.contentBoxSize.blockSize;\n",
       "                }\n",
       "            } else {\n",
       "                // Chrome <84 implements even older version of spec.\n",
       "                width = entry.contentRect.width;\n",
       "                height = entry.contentRect.height;\n",
       "            }\n",
       "\n",
       "            // Keep the size of the canvas and rubber band canvas in sync with\n",
       "            // the canvas container.\n",
       "            if (entry.devicePixelContentBoxSize) {\n",
       "                // Chrome 84 implements new version of spec.\n",
       "                canvas.setAttribute(\n",
       "                    'width',\n",
       "                    entry.devicePixelContentBoxSize[0].inlineSize\n",
       "                );\n",
       "                canvas.setAttribute(\n",
       "                    'height',\n",
       "                    entry.devicePixelContentBoxSize[0].blockSize\n",
       "                );\n",
       "            } else {\n",
       "                canvas.setAttribute('width', width * fig.ratio);\n",
       "                canvas.setAttribute('height', height * fig.ratio);\n",
       "            }\n",
       "            canvas.setAttribute(\n",
       "                'style',\n",
       "                'width: ' + width + 'px; height: ' + height + 'px;'\n",
       "            );\n",
       "\n",
       "            rubberband_canvas.setAttribute('width', width);\n",
       "            rubberband_canvas.setAttribute('height', height);\n",
       "\n",
       "            // And update the size in Python. We ignore the initial 0/0 size\n",
       "            // that occurs as the element is placed into the DOM, which should\n",
       "            // otherwise not happen due to the minimum size styling.\n",
       "            if (fig.ws.readyState == 1 && width != 0 && height != 0) {\n",
       "                fig.request_resize(width, height);\n",
       "            }\n",
       "        }\n",
       "    });\n",
       "    this.resizeObserverInstance.observe(canvas_div);\n",
       "\n",
       "    function on_mouse_event_closure(name) {\n",
       "        return function (event) {\n",
       "            return fig.mouse_event(event, name);\n",
       "        };\n",
       "    }\n",
       "\n",
       "    rubberband_canvas.addEventListener(\n",
       "        'mousedown',\n",
       "        on_mouse_event_closure('button_press')\n",
       "    );\n",
       "    rubberband_canvas.addEventListener(\n",
       "        'mouseup',\n",
       "        on_mouse_event_closure('button_release')\n",
       "    );\n",
       "    rubberband_canvas.addEventListener(\n",
       "        'dblclick',\n",
       "        on_mouse_event_closure('dblclick')\n",
       "    );\n",
       "    // Throttle sequential mouse events to 1 every 20ms.\n",
       "    rubberband_canvas.addEventListener(\n",
       "        'mousemove',\n",
       "        on_mouse_event_closure('motion_notify')\n",
       "    );\n",
       "\n",
       "    rubberband_canvas.addEventListener(\n",
       "        'mouseenter',\n",
       "        on_mouse_event_closure('figure_enter')\n",
       "    );\n",
       "    rubberband_canvas.addEventListener(\n",
       "        'mouseleave',\n",
       "        on_mouse_event_closure('figure_leave')\n",
       "    );\n",
       "\n",
       "    canvas_div.addEventListener('wheel', function (event) {\n",
       "        if (event.deltaY < 0) {\n",
       "            event.step = 1;\n",
       "        } else {\n",
       "            event.step = -1;\n",
       "        }\n",
       "        on_mouse_event_closure('scroll')(event);\n",
       "    });\n",
       "\n",
       "    canvas_div.appendChild(canvas);\n",
       "    canvas_div.appendChild(rubberband_canvas);\n",
       "\n",
       "    this.rubberband_context = rubberband_canvas.getContext('2d');\n",
       "    this.rubberband_context.strokeStyle = '#000000';\n",
       "\n",
       "    this._resize_canvas = function (width, height, forward) {\n",
       "        if (forward) {\n",
       "            canvas_div.style.width = width + 'px';\n",
       "            canvas_div.style.height = height + 'px';\n",
       "        }\n",
       "    };\n",
       "\n",
       "    // Disable right mouse context menu.\n",
       "    this.rubberband_canvas.addEventListener('contextmenu', function (_e) {\n",
       "        event.preventDefault();\n",
       "        return false;\n",
       "    });\n",
       "\n",
       "    function set_focus() {\n",
       "        canvas.focus();\n",
       "        canvas_div.focus();\n",
       "    }\n",
       "\n",
       "    window.setTimeout(set_focus, 100);\n",
       "};\n",
       "\n",
       "mpl.figure.prototype._init_toolbar = function () {\n",
       "    var fig = this;\n",
       "\n",
       "    var toolbar = document.createElement('div');\n",
       "    toolbar.classList = 'mpl-toolbar';\n",
       "    this.root.appendChild(toolbar);\n",
       "\n",
       "    function on_click_closure(name) {\n",
       "        return function (_event) {\n",
       "            return fig.toolbar_button_onclick(name);\n",
       "        };\n",
       "    }\n",
       "\n",
       "    function on_mouseover_closure(tooltip) {\n",
       "        return function (event) {\n",
       "            if (!event.currentTarget.disabled) {\n",
       "                return fig.toolbar_button_onmouseover(tooltip);\n",
       "            }\n",
       "        };\n",
       "    }\n",
       "\n",
       "    fig.buttons = {};\n",
       "    var buttonGroup = document.createElement('div');\n",
       "    buttonGroup.classList = 'mpl-button-group';\n",
       "    for (var toolbar_ind in mpl.toolbar_items) {\n",
       "        var name = mpl.toolbar_items[toolbar_ind][0];\n",
       "        var tooltip = mpl.toolbar_items[toolbar_ind][1];\n",
       "        var image = mpl.toolbar_items[toolbar_ind][2];\n",
       "        var method_name = mpl.toolbar_items[toolbar_ind][3];\n",
       "\n",
       "        if (!name) {\n",
       "            /* Instead of a spacer, we start a new button group. */\n",
       "            if (buttonGroup.hasChildNodes()) {\n",
       "                toolbar.appendChild(buttonGroup);\n",
       "            }\n",
       "            buttonGroup = document.createElement('div');\n",
       "            buttonGroup.classList = 'mpl-button-group';\n",
       "            continue;\n",
       "        }\n",
       "\n",
       "        var button = (fig.buttons[name] = document.createElement('button'));\n",
       "        button.classList = 'mpl-widget';\n",
       "        button.setAttribute('role', 'button');\n",
       "        button.setAttribute('aria-disabled', 'false');\n",
       "        button.addEventListener('click', on_click_closure(method_name));\n",
       "        button.addEventListener('mouseover', on_mouseover_closure(tooltip));\n",
       "\n",
       "        var icon_img = document.createElement('img');\n",
       "        icon_img.src = '_images/' + image + '.png';\n",
       "        icon_img.srcset = '_images/' + image + '_large.png 2x';\n",
       "        icon_img.alt = tooltip;\n",
       "        button.appendChild(icon_img);\n",
       "\n",
       "        buttonGroup.appendChild(button);\n",
       "    }\n",
       "\n",
       "    if (buttonGroup.hasChildNodes()) {\n",
       "        toolbar.appendChild(buttonGroup);\n",
       "    }\n",
       "\n",
       "    var fmt_picker = document.createElement('select');\n",
       "    fmt_picker.classList = 'mpl-widget';\n",
       "    toolbar.appendChild(fmt_picker);\n",
       "    this.format_dropdown = fmt_picker;\n",
       "\n",
       "    for (var ind in mpl.extensions) {\n",
       "        var fmt = mpl.extensions[ind];\n",
       "        var option = document.createElement('option');\n",
       "        option.selected = fmt === mpl.default_extension;\n",
       "        option.innerHTML = fmt;\n",
       "        fmt_picker.appendChild(option);\n",
       "    }\n",
       "\n",
       "    var status_bar = document.createElement('span');\n",
       "    status_bar.classList = 'mpl-message';\n",
       "    toolbar.appendChild(status_bar);\n",
       "    this.message = status_bar;\n",
       "};\n",
       "\n",
       "mpl.figure.prototype.request_resize = function (x_pixels, y_pixels) {\n",
       "    // Request matplotlib to resize the figure. Matplotlib will then trigger a resize in the client,\n",
       "    // which will in turn request a refresh of the image.\n",
       "    this.send_message('resize', { width: x_pixels, height: y_pixels });\n",
       "};\n",
       "\n",
       "mpl.figure.prototype.send_message = function (type, properties) {\n",
       "    properties['type'] = type;\n",
       "    properties['figure_id'] = this.id;\n",
       "    this.ws.send(JSON.stringify(properties));\n",
       "};\n",
       "\n",
       "mpl.figure.prototype.send_draw_message = function () {\n",
       "    if (!this.waiting) {\n",
       "        this.waiting = true;\n",
       "        this.ws.send(JSON.stringify({ type: 'draw', figure_id: this.id }));\n",
       "    }\n",
       "};\n",
       "\n",
       "mpl.figure.prototype.handle_save = function (fig, _msg) {\n",
       "    var format_dropdown = fig.format_dropdown;\n",
       "    var format = format_dropdown.options[format_dropdown.selectedIndex].value;\n",
       "    fig.ondownload(fig, format);\n",
       "};\n",
       "\n",
       "mpl.figure.prototype.handle_resize = function (fig, msg) {\n",
       "    var size = msg['size'];\n",
       "    if (size[0] !== fig.canvas.width || size[1] !== fig.canvas.height) {\n",
       "        fig._resize_canvas(size[0], size[1], msg['forward']);\n",
       "        fig.send_message('refresh', {});\n",
       "    }\n",
       "};\n",
       "\n",
       "mpl.figure.prototype.handle_rubberband = function (fig, msg) {\n",
       "    var x0 = msg['x0'] / fig.ratio;\n",
       "    var y0 = (fig.canvas.height - msg['y0']) / fig.ratio;\n",
       "    var x1 = msg['x1'] / fig.ratio;\n",
       "    var y1 = (fig.canvas.height - msg['y1']) / fig.ratio;\n",
       "    x0 = Math.floor(x0) + 0.5;\n",
       "    y0 = Math.floor(y0) + 0.5;\n",
       "    x1 = Math.floor(x1) + 0.5;\n",
       "    y1 = Math.floor(y1) + 0.5;\n",
       "    var min_x = Math.min(x0, x1);\n",
       "    var min_y = Math.min(y0, y1);\n",
       "    var width = Math.abs(x1 - x0);\n",
       "    var height = Math.abs(y1 - y0);\n",
       "\n",
       "    fig.rubberband_context.clearRect(\n",
       "        0,\n",
       "        0,\n",
       "        fig.canvas.width / fig.ratio,\n",
       "        fig.canvas.height / fig.ratio\n",
       "    );\n",
       "\n",
       "    fig.rubberband_context.strokeRect(min_x, min_y, width, height);\n",
       "};\n",
       "\n",
       "mpl.figure.prototype.handle_figure_label = function (fig, msg) {\n",
       "    // Updates the figure title.\n",
       "    fig.header.textContent = msg['label'];\n",
       "};\n",
       "\n",
       "mpl.figure.prototype.handle_cursor = function (fig, msg) {\n",
       "    var cursor = msg['cursor'];\n",
       "    switch (cursor) {\n",
       "        case 0:\n",
       "            cursor = 'pointer';\n",
       "            break;\n",
       "        case 1:\n",
       "            cursor = 'default';\n",
       "            break;\n",
       "        case 2:\n",
       "            cursor = 'crosshair';\n",
       "            break;\n",
       "        case 3:\n",
       "            cursor = 'move';\n",
       "            break;\n",
       "    }\n",
       "    fig.rubberband_canvas.style.cursor = cursor;\n",
       "};\n",
       "\n",
       "mpl.figure.prototype.handle_message = function (fig, msg) {\n",
       "    fig.message.textContent = msg['message'];\n",
       "};\n",
       "\n",
       "mpl.figure.prototype.handle_draw = function (fig, _msg) {\n",
       "    // Request the server to send over a new figure.\n",
       "    fig.send_draw_message();\n",
       "};\n",
       "\n",
       "mpl.figure.prototype.handle_image_mode = function (fig, msg) {\n",
       "    fig.image_mode = msg['mode'];\n",
       "};\n",
       "\n",
       "mpl.figure.prototype.handle_history_buttons = function (fig, msg) {\n",
       "    for (var key in msg) {\n",
       "        if (!(key in fig.buttons)) {\n",
       "            continue;\n",
       "        }\n",
       "        fig.buttons[key].disabled = !msg[key];\n",
       "        fig.buttons[key].setAttribute('aria-disabled', !msg[key]);\n",
       "    }\n",
       "};\n",
       "\n",
       "mpl.figure.prototype.handle_navigate_mode = function (fig, msg) {\n",
       "    if (msg['mode'] === 'PAN') {\n",
       "        fig.buttons['Pan'].classList.add('active');\n",
       "        fig.buttons['Zoom'].classList.remove('active');\n",
       "    } else if (msg['mode'] === 'ZOOM') {\n",
       "        fig.buttons['Pan'].classList.remove('active');\n",
       "        fig.buttons['Zoom'].classList.add('active');\n",
       "    } else {\n",
       "        fig.buttons['Pan'].classList.remove('active');\n",
       "        fig.buttons['Zoom'].classList.remove('active');\n",
       "    }\n",
       "};\n",
       "\n",
       "mpl.figure.prototype.updated_canvas_event = function () {\n",
       "    // Called whenever the canvas gets updated.\n",
       "    this.send_message('ack', {});\n",
       "};\n",
       "\n",
       "// A function to construct a web socket function for onmessage handling.\n",
       "// Called in the figure constructor.\n",
       "mpl.figure.prototype._make_on_message_function = function (fig) {\n",
       "    return function socket_on_message(evt) {\n",
       "        if (evt.data instanceof Blob) {\n",
       "            var img = evt.data;\n",
       "            if (img.type !== 'image/png') {\n",
       "                /* FIXME: We get \"Resource interpreted as Image but\n",
       "                 * transferred with MIME type text/plain:\" errors on\n",
       "                 * Chrome.  But how to set the MIME type?  It doesn't seem\n",
       "                 * to be part of the websocket stream */\n",
       "                img.type = 'image/png';\n",
       "            }\n",
       "\n",
       "            /* Free the memory for the previous frames */\n",
       "            if (fig.imageObj.src) {\n",
       "                (window.URL || window.webkitURL).revokeObjectURL(\n",
       "                    fig.imageObj.src\n",
       "                );\n",
       "            }\n",
       "\n",
       "            fig.imageObj.src = (window.URL || window.webkitURL).createObjectURL(\n",
       "                img\n",
       "            );\n",
       "            fig.updated_canvas_event();\n",
       "            fig.waiting = false;\n",
       "            return;\n",
       "        } else if (\n",
       "            typeof evt.data === 'string' &&\n",
       "            evt.data.slice(0, 21) === 'data:image/png;base64'\n",
       "        ) {\n",
       "            fig.imageObj.src = evt.data;\n",
       "            fig.updated_canvas_event();\n",
       "            fig.waiting = false;\n",
       "            return;\n",
       "        }\n",
       "\n",
       "        var msg = JSON.parse(evt.data);\n",
       "        var msg_type = msg['type'];\n",
       "\n",
       "        // Call the  \"handle_{type}\" callback, which takes\n",
       "        // the figure and JSON message as its only arguments.\n",
       "        try {\n",
       "            var callback = fig['handle_' + msg_type];\n",
       "        } catch (e) {\n",
       "            console.log(\n",
       "                \"No handler for the '\" + msg_type + \"' message type: \",\n",
       "                msg\n",
       "            );\n",
       "            return;\n",
       "        }\n",
       "\n",
       "        if (callback) {\n",
       "            try {\n",
       "                // console.log(\"Handling '\" + msg_type + \"' message: \", msg);\n",
       "                callback(fig, msg);\n",
       "            } catch (e) {\n",
       "                console.log(\n",
       "                    \"Exception inside the 'handler_\" + msg_type + \"' callback:\",\n",
       "                    e,\n",
       "                    e.stack,\n",
       "                    msg\n",
       "                );\n",
       "            }\n",
       "        }\n",
       "    };\n",
       "};\n",
       "\n",
       "// from http://stackoverflow.com/questions/1114465/getting-mouse-location-in-canvas\n",
       "mpl.findpos = function (e) {\n",
       "    //this section is from http://www.quirksmode.org/js/events_properties.html\n",
       "    var targ;\n",
       "    if (!e) {\n",
       "        e = window.event;\n",
       "    }\n",
       "    if (e.target) {\n",
       "        targ = e.target;\n",
       "    } else if (e.srcElement) {\n",
       "        targ = e.srcElement;\n",
       "    }\n",
       "    if (targ.nodeType === 3) {\n",
       "        // defeat Safari bug\n",
       "        targ = targ.parentNode;\n",
       "    }\n",
       "\n",
       "    // pageX,Y are the mouse positions relative to the document\n",
       "    var boundingRect = targ.getBoundingClientRect();\n",
       "    var x = e.pageX - (boundingRect.left + document.body.scrollLeft);\n",
       "    var y = e.pageY - (boundingRect.top + document.body.scrollTop);\n",
       "\n",
       "    return { x: x, y: y };\n",
       "};\n",
       "\n",
       "/*\n",
       " * return a copy of an object with only non-object keys\n",
       " * we need this to avoid circular references\n",
       " * http://stackoverflow.com/a/24161582/3208463\n",
       " */\n",
       "function simpleKeys(original) {\n",
       "    return Object.keys(original).reduce(function (obj, key) {\n",
       "        if (typeof original[key] !== 'object') {\n",
       "            obj[key] = original[key];\n",
       "        }\n",
       "        return obj;\n",
       "    }, {});\n",
       "}\n",
       "\n",
       "mpl.figure.prototype.mouse_event = function (event, name) {\n",
       "    var canvas_pos = mpl.findpos(event);\n",
       "\n",
       "    if (name === 'button_press') {\n",
       "        this.canvas.focus();\n",
       "        this.canvas_div.focus();\n",
       "    }\n",
       "\n",
       "    var x = canvas_pos.x * this.ratio;\n",
       "    var y = canvas_pos.y * this.ratio;\n",
       "\n",
       "    this.send_message(name, {\n",
       "        x: x,\n",
       "        y: y,\n",
       "        button: event.button,\n",
       "        step: event.step,\n",
       "        guiEvent: simpleKeys(event),\n",
       "    });\n",
       "\n",
       "    /* This prevents the web browser from automatically changing to\n",
       "     * the text insertion cursor when the button is pressed.  We want\n",
       "     * to control all of the cursor setting manually through the\n",
       "     * 'cursor' event from matplotlib */\n",
       "    event.preventDefault();\n",
       "    return false;\n",
       "};\n",
       "\n",
       "mpl.figure.prototype._key_event_extra = function (_event, _name) {\n",
       "    // Handle any extra behaviour associated with a key event\n",
       "};\n",
       "\n",
       "mpl.figure.prototype.key_event = function (event, name) {\n",
       "    // Prevent repeat events\n",
       "    if (name === 'key_press') {\n",
       "        if (event.key === this._key) {\n",
       "            return;\n",
       "        } else {\n",
       "            this._key = event.key;\n",
       "        }\n",
       "    }\n",
       "    if (name === 'key_release') {\n",
       "        this._key = null;\n",
       "    }\n",
       "\n",
       "    var value = '';\n",
       "    if (event.ctrlKey && event.key !== 'Control') {\n",
       "        value += 'ctrl+';\n",
       "    }\n",
       "    else if (event.altKey && event.key !== 'Alt') {\n",
       "        value += 'alt+';\n",
       "    }\n",
       "    else if (event.shiftKey && event.key !== 'Shift') {\n",
       "        value += 'shift+';\n",
       "    }\n",
       "\n",
       "    value += 'k' + event.key;\n",
       "\n",
       "    this._key_event_extra(event, name);\n",
       "\n",
       "    this.send_message(name, { key: value, guiEvent: simpleKeys(event) });\n",
       "    return false;\n",
       "};\n",
       "\n",
       "mpl.figure.prototype.toolbar_button_onclick = function (name) {\n",
       "    if (name === 'download') {\n",
       "        this.handle_save(this, null);\n",
       "    } else {\n",
       "        this.send_message('toolbar_button', { name: name });\n",
       "    }\n",
       "};\n",
       "\n",
       "mpl.figure.prototype.toolbar_button_onmouseover = function (tooltip) {\n",
       "    this.message.textContent = tooltip;\n",
       "};\n",
       "\n",
       "///////////////// REMAINING CONTENT GENERATED BY embed_js.py /////////////////\n",
       "// prettier-ignore\n",
       "var _JSXTOOLS_RESIZE_OBSERVER=function(A){var t,i=new WeakMap,n=new WeakMap,a=new WeakMap,r=new WeakMap,o=new Set;function s(e){if(!(this instanceof s))throw new TypeError(\"Constructor requires 'new' operator\");i.set(this,e)}function h(){throw new TypeError(\"Function is not a constructor\")}function c(e,t,i,n){e=0 in arguments?Number(arguments[0]):0,t=1 in arguments?Number(arguments[1]):0,i=2 in arguments?Number(arguments[2]):0,n=3 in arguments?Number(arguments[3]):0,this.right=(this.x=this.left=e)+(this.width=i),this.bottom=(this.y=this.top=t)+(this.height=n),Object.freeze(this)}function d(){t=requestAnimationFrame(d);var s=new WeakMap,p=new Set;o.forEach((function(t){r.get(t).forEach((function(i){var r=t instanceof window.SVGElement,o=a.get(t),d=r?0:parseFloat(o.paddingTop),f=r?0:parseFloat(o.paddingRight),l=r?0:parseFloat(o.paddingBottom),u=r?0:parseFloat(o.paddingLeft),g=r?0:parseFloat(o.borderTopWidth),m=r?0:parseFloat(o.borderRightWidth),w=r?0:parseFloat(o.borderBottomWidth),b=u+f,F=d+l,v=(r?0:parseFloat(o.borderLeftWidth))+m,W=g+w,y=r?0:t.offsetHeight-W-t.clientHeight,E=r?0:t.offsetWidth-v-t.clientWidth,R=b+v,z=F+W,M=r?t.width:parseFloat(o.width)-R-E,O=r?t.height:parseFloat(o.height)-z-y;if(n.has(t)){var k=n.get(t);if(k[0]===M&&k[1]===O)return}n.set(t,[M,O]);var S=Object.create(h.prototype);S.target=t,S.contentRect=new c(u,d,M,O),s.has(i)||(s.set(i,[]),p.add(i)),s.get(i).push(S)}))})),p.forEach((function(e){i.get(e).call(e,s.get(e),e)}))}return s.prototype.observe=function(i){if(i instanceof window.Element){r.has(i)||(r.set(i,new Set),o.add(i),a.set(i,window.getComputedStyle(i)));var n=r.get(i);n.has(this)||n.add(this),cancelAnimationFrame(t),t=requestAnimationFrame(d)}},s.prototype.unobserve=function(i){if(i instanceof window.Element&&r.has(i)){var n=r.get(i);n.has(this)&&(n.delete(this),n.size||(r.delete(i),o.delete(i))),n.size||r.delete(i),o.size||cancelAnimationFrame(t)}},A.DOMRectReadOnly=c,A.ResizeObserver=s,A.ResizeObserverEntry=h,A}; // eslint-disable-line\n",
       "mpl.toolbar_items = [[\"Home\", \"Reset original view\", \"fa fa-home icon-home\", \"home\"], [\"Back\", \"Back to previous view\", \"fa fa-arrow-left icon-arrow-left\", \"back\"], [\"Forward\", \"Forward to next view\", \"fa fa-arrow-right icon-arrow-right\", \"forward\"], [\"\", \"\", \"\", \"\"], [\"Pan\", \"Left button pans, Right button zooms\\nx/y fixes axis, CTRL fixes aspect\", \"fa fa-arrows icon-move\", \"pan\"], [\"Zoom\", \"Zoom to rectangle\\nx/y fixes axis, CTRL fixes aspect\", \"fa fa-square-o icon-check-empty\", \"zoom\"], [\"\", \"\", \"\", \"\"], [\"Download\", \"Download plot\", \"fa fa-floppy-o icon-save\", \"download\"]];\n",
       "\n",
       "mpl.extensions = [\"eps\", \"jpeg\", \"pgf\", \"pdf\", \"png\", \"ps\", \"raw\", \"svg\", \"tif\"];\n",
       "\n",
       "mpl.default_extension = \"png\";/* global mpl */\n",
       "\n",
       "var comm_websocket_adapter = function (comm) {\n",
       "    // Create a \"websocket\"-like object which calls the given IPython comm\n",
       "    // object with the appropriate methods. Currently this is a non binary\n",
       "    // socket, so there is still some room for performance tuning.\n",
       "    var ws = {};\n",
       "\n",
       "    ws.binaryType = comm.kernel.ws.binaryType;\n",
       "    ws.readyState = comm.kernel.ws.readyState;\n",
       "    function updateReadyState(_event) {\n",
       "        if (comm.kernel.ws) {\n",
       "            ws.readyState = comm.kernel.ws.readyState;\n",
       "        } else {\n",
       "            ws.readyState = 3; // Closed state.\n",
       "        }\n",
       "    }\n",
       "    comm.kernel.ws.addEventListener('open', updateReadyState);\n",
       "    comm.kernel.ws.addEventListener('close', updateReadyState);\n",
       "    comm.kernel.ws.addEventListener('error', updateReadyState);\n",
       "\n",
       "    ws.close = function () {\n",
       "        comm.close();\n",
       "    };\n",
       "    ws.send = function (m) {\n",
       "        //console.log('sending', m);\n",
       "        comm.send(m);\n",
       "    };\n",
       "    // Register the callback with on_msg.\n",
       "    comm.on_msg(function (msg) {\n",
       "        //console.log('receiving', msg['content']['data'], msg);\n",
       "        var data = msg['content']['data'];\n",
       "        if (data['blob'] !== undefined) {\n",
       "            data = {\n",
       "                data: new Blob(msg['buffers'], { type: data['blob'] }),\n",
       "            };\n",
       "        }\n",
       "        // Pass the mpl event to the overridden (by mpl) onmessage function.\n",
       "        ws.onmessage(data);\n",
       "    });\n",
       "    return ws;\n",
       "};\n",
       "\n",
       "mpl.mpl_figure_comm = function (comm, msg) {\n",
       "    // This is the function which gets called when the mpl process\n",
       "    // starts-up an IPython Comm through the \"matplotlib\" channel.\n",
       "\n",
       "    var id = msg.content.data.id;\n",
       "    // Get hold of the div created by the display call when the Comm\n",
       "    // socket was opened in Python.\n",
       "    var element = document.getElementById(id);\n",
       "    var ws_proxy = comm_websocket_adapter(comm);\n",
       "\n",
       "    function ondownload(figure, _format) {\n",
       "        window.open(figure.canvas.toDataURL());\n",
       "    }\n",
       "\n",
       "    var fig = new mpl.figure(id, ws_proxy, ondownload, element);\n",
       "\n",
       "    // Call onopen now - mpl needs it, as it is assuming we've passed it a real\n",
       "    // web socket which is closed, not our websocket->open comm proxy.\n",
       "    ws_proxy.onopen();\n",
       "\n",
       "    fig.parent_element = element;\n",
       "    fig.cell_info = mpl.find_output_cell(\"<div id='\" + id + \"'></div>\");\n",
       "    if (!fig.cell_info) {\n",
       "        console.error('Failed to find cell for figure', id, fig);\n",
       "        return;\n",
       "    }\n",
       "    fig.cell_info[0].output_area.element.on(\n",
       "        'cleared',\n",
       "        { fig: fig },\n",
       "        fig._remove_fig_handler\n",
       "    );\n",
       "};\n",
       "\n",
       "mpl.figure.prototype.handle_close = function (fig, msg) {\n",
       "    var width = fig.canvas.width / fig.ratio;\n",
       "    fig.cell_info[0].output_area.element.off(\n",
       "        'cleared',\n",
       "        fig._remove_fig_handler\n",
       "    );\n",
       "    fig.resizeObserverInstance.unobserve(fig.canvas_div);\n",
       "\n",
       "    // Update the output cell to use the data from the current canvas.\n",
       "    fig.push_to_output();\n",
       "    var dataURL = fig.canvas.toDataURL();\n",
       "    // Re-enable the keyboard manager in IPython - without this line, in FF,\n",
       "    // the notebook keyboard shortcuts fail.\n",
       "    IPython.keyboard_manager.enable();\n",
       "    fig.parent_element.innerHTML =\n",
       "        '<img src=\"' + dataURL + '\" width=\"' + width + '\">';\n",
       "    fig.close_ws(fig, msg);\n",
       "};\n",
       "\n",
       "mpl.figure.prototype.close_ws = function (fig, msg) {\n",
       "    fig.send_message('closing', msg);\n",
       "    // fig.ws.close()\n",
       "};\n",
       "\n",
       "mpl.figure.prototype.push_to_output = function (_remove_interactive) {\n",
       "    // Turn the data on the canvas into data in the output cell.\n",
       "    var width = this.canvas.width / this.ratio;\n",
       "    var dataURL = this.canvas.toDataURL();\n",
       "    this.cell_info[1]['text/html'] =\n",
       "        '<img src=\"' + dataURL + '\" width=\"' + width + '\">';\n",
       "};\n",
       "\n",
       "mpl.figure.prototype.updated_canvas_event = function () {\n",
       "    // Tell IPython that the notebook contents must change.\n",
       "    IPython.notebook.set_dirty(true);\n",
       "    this.send_message('ack', {});\n",
       "    var fig = this;\n",
       "    // Wait a second, then push the new image to the DOM so\n",
       "    // that it is saved nicely (might be nice to debounce this).\n",
       "    setTimeout(function () {\n",
       "        fig.push_to_output();\n",
       "    }, 1000);\n",
       "};\n",
       "\n",
       "mpl.figure.prototype._init_toolbar = function () {\n",
       "    var fig = this;\n",
       "\n",
       "    var toolbar = document.createElement('div');\n",
       "    toolbar.classList = 'btn-toolbar';\n",
       "    this.root.appendChild(toolbar);\n",
       "\n",
       "    function on_click_closure(name) {\n",
       "        return function (_event) {\n",
       "            return fig.toolbar_button_onclick(name);\n",
       "        };\n",
       "    }\n",
       "\n",
       "    function on_mouseover_closure(tooltip) {\n",
       "        return function (event) {\n",
       "            if (!event.currentTarget.disabled) {\n",
       "                return fig.toolbar_button_onmouseover(tooltip);\n",
       "            }\n",
       "        };\n",
       "    }\n",
       "\n",
       "    fig.buttons = {};\n",
       "    var buttonGroup = document.createElement('div');\n",
       "    buttonGroup.classList = 'btn-group';\n",
       "    var button;\n",
       "    for (var toolbar_ind in mpl.toolbar_items) {\n",
       "        var name = mpl.toolbar_items[toolbar_ind][0];\n",
       "        var tooltip = mpl.toolbar_items[toolbar_ind][1];\n",
       "        var image = mpl.toolbar_items[toolbar_ind][2];\n",
       "        var method_name = mpl.toolbar_items[toolbar_ind][3];\n",
       "\n",
       "        if (!name) {\n",
       "            /* Instead of a spacer, we start a new button group. */\n",
       "            if (buttonGroup.hasChildNodes()) {\n",
       "                toolbar.appendChild(buttonGroup);\n",
       "            }\n",
       "            buttonGroup = document.createElement('div');\n",
       "            buttonGroup.classList = 'btn-group';\n",
       "            continue;\n",
       "        }\n",
       "\n",
       "        button = fig.buttons[name] = document.createElement('button');\n",
       "        button.classList = 'btn btn-default';\n",
       "        button.href = '#';\n",
       "        button.title = name;\n",
       "        button.innerHTML = '<i class=\"fa ' + image + ' fa-lg\"></i>';\n",
       "        button.addEventListener('click', on_click_closure(method_name));\n",
       "        button.addEventListener('mouseover', on_mouseover_closure(tooltip));\n",
       "        buttonGroup.appendChild(button);\n",
       "    }\n",
       "\n",
       "    if (buttonGroup.hasChildNodes()) {\n",
       "        toolbar.appendChild(buttonGroup);\n",
       "    }\n",
       "\n",
       "    // Add the status bar.\n",
       "    var status_bar = document.createElement('span');\n",
       "    status_bar.classList = 'mpl-message pull-right';\n",
       "    toolbar.appendChild(status_bar);\n",
       "    this.message = status_bar;\n",
       "\n",
       "    // Add the close button to the window.\n",
       "    var buttongrp = document.createElement('div');\n",
       "    buttongrp.classList = 'btn-group inline pull-right';\n",
       "    button = document.createElement('button');\n",
       "    button.classList = 'btn btn-mini btn-primary';\n",
       "    button.href = '#';\n",
       "    button.title = 'Stop Interaction';\n",
       "    button.innerHTML = '<i class=\"fa fa-power-off icon-remove icon-large\"></i>';\n",
       "    button.addEventListener('click', function (_evt) {\n",
       "        fig.handle_close(fig, {});\n",
       "    });\n",
       "    button.addEventListener(\n",
       "        'mouseover',\n",
       "        on_mouseover_closure('Stop Interaction')\n",
       "    );\n",
       "    buttongrp.appendChild(button);\n",
       "    var titlebar = this.root.querySelector('.ui-dialog-titlebar');\n",
       "    titlebar.insertBefore(buttongrp, titlebar.firstChild);\n",
       "};\n",
       "\n",
       "mpl.figure.prototype._remove_fig_handler = function (event) {\n",
       "    var fig = event.data.fig;\n",
       "    if (event.target !== this) {\n",
       "        // Ignore bubbled events from children.\n",
       "        return;\n",
       "    }\n",
       "    fig.close_ws(fig, {});\n",
       "};\n",
       "\n",
       "mpl.figure.prototype._root_extra_style = function (el) {\n",
       "    el.style.boxSizing = 'content-box'; // override notebook setting of border-box.\n",
       "};\n",
       "\n",
       "mpl.figure.prototype._canvas_extra_style = function (el) {\n",
       "    // this is important to make the div 'focusable\n",
       "    el.setAttribute('tabindex', 0);\n",
       "    // reach out to IPython and tell the keyboard manager to turn it's self\n",
       "    // off when our div gets focus\n",
       "\n",
       "    // location in version 3\n",
       "    if (IPython.notebook.keyboard_manager) {\n",
       "        IPython.notebook.keyboard_manager.register_events(el);\n",
       "    } else {\n",
       "        // location in version 2\n",
       "        IPython.keyboard_manager.register_events(el);\n",
       "    }\n",
       "};\n",
       "\n",
       "mpl.figure.prototype._key_event_extra = function (event, _name) {\n",
       "    var manager = IPython.notebook.keyboard_manager;\n",
       "    if (!manager) {\n",
       "        manager = IPython.keyboard_manager;\n",
       "    }\n",
       "\n",
       "    // Check for shift+enter\n",
       "    if (event.shiftKey && event.which === 13) {\n",
       "        this.canvas_div.blur();\n",
       "        // select the cell after this one\n",
       "        var index = IPython.notebook.find_cell_index(this.cell_info[0]);\n",
       "        IPython.notebook.select(index + 1);\n",
       "    }\n",
       "};\n",
       "\n",
       "mpl.figure.prototype.handle_save = function (fig, _msg) {\n",
       "    fig.ondownload(fig, null);\n",
       "};\n",
       "\n",
       "mpl.find_output_cell = function (html_output) {\n",
       "    // Return the cell and output element which can be found *uniquely* in the notebook.\n",
       "    // Note - this is a bit hacky, but it is done because the \"notebook_saving.Notebook\"\n",
       "    // IPython event is triggered only after the cells have been serialised, which for\n",
       "    // our purposes (turning an active figure into a static one), is too late.\n",
       "    var cells = IPython.notebook.get_cells();\n",
       "    var ncells = cells.length;\n",
       "    for (var i = 0; i < ncells; i++) {\n",
       "        var cell = cells[i];\n",
       "        if (cell.cell_type === 'code') {\n",
       "            for (var j = 0; j < cell.output_area.outputs.length; j++) {\n",
       "                var data = cell.output_area.outputs[j];\n",
       "                if (data.data) {\n",
       "                    // IPython >= 3 moved mimebundle to data attribute of output\n",
       "                    data = data.data;\n",
       "                }\n",
       "                if (data['text/html'] === html_output) {\n",
       "                    return [cell, data, j];\n",
       "                }\n",
       "            }\n",
       "        }\n",
       "    }\n",
       "};\n",
       "\n",
       "// Register the function which deals with the matplotlib target/channel.\n",
       "// The kernel may be null if the page has been refreshed.\n",
       "if (IPython.notebook.kernel !== null) {\n",
       "    IPython.notebook.kernel.comm_manager.register_target(\n",
       "        'matplotlib',\n",
       "        mpl.mpl_figure_comm\n",
       "    );\n",
       "}\n"
      ],
      "text/plain": [
       "<IPython.core.display.Javascript object>"
      ]
     },
     "metadata": {},
     "output_type": "display_data"
    },
    {
     "data": {
      "text/html": [
       "<img src=\"data:image/png;base64,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\" width=\"432\">"
      ],
      "text/plain": [
       "<IPython.core.display.HTML object>"
      ]
     },
     "metadata": {},
     "output_type": "display_data"
    },
    {
     "data": {
      "text/plain": [
       "<AxesSubplot:xlabel='Month'>"
      ]
     },
     "execution_count": 107,
     "metadata": {},
     "output_type": "execute_result"
    }
   ],
   "source": [
    "company_data.groupby('Month').sum()['Total_Revenue'].plot(kind = 'line',legend = False)"
   ]
  },
  {
   "cell_type": "markdown",
   "metadata": {},
   "source": [
    "### 83. Create line chart for Total Units of all months with following properties\n",
    "- X label name = Month\n",
    "- Y label name = Total Units\n",
    "- Line Style dotted and Line-color should be red\n",
    "- Show legend at the lower right location."
   ]
  },
  {
   "cell_type": "code",
   "execution_count": null,
   "metadata": {},
   "outputs": [],
   "source": [
    "plt.legend('Blue',loc = 'lower right')"
   ]
  },
  {
   "cell_type": "code",
   "execution_count": 151,
   "metadata": {},
   "outputs": [
    {
     "data": {
      "text/plain": [
       "<matplotlib.legend.Legend at 0x1ca1e882100>"
      ]
     },
     "execution_count": 151,
     "metadata": {},
     "output_type": "execute_result"
    },
    {
     "data": {
      "image/png": "[encoded data removed]",
      "text/plain": [
       "<Figure size 432x288 with 1 Axes>"
      ]
     },
     "metadata": {
      "needs_background": "light"
     },
     "output_type": "display_data"
    }
   ],
   "source": [
    "sns.lineplot(x = company_data.Month, y = company_data.Total_Units,linestyle = '--',legend= 'auto')\n",
    "plt.legend(labels = 'Total',fontsize = 'large',loc = 'lower right',bbox_to_anchor = (1,0))"
   ]
  },
  {
   "cell_type": "markdown",
   "metadata": {},
   "source": [
    "### 84. Read all product sales data (Facecream, FaceWash, Toothpaste, Soap, Shampo, Moisturizer) and show it  using a multiline plot\n",
    "- Display the number of units sold per month for each product using multiline plots. (i.e., Separate Plotline for each product )."
   ]
  },
  {
   "cell_type": "code",
   "execution_count": 213,
   "metadata": {},
   "outputs": [
    {
     "data": {
      "text/plain": [
       "<matplotlib.legend.Legend at 0x1ca226ffdc0>"
      ]
     },
     "execution_count": 213,
     "metadata": {},
     "output_type": "execute_result"
    },
    {
     "data": {
      "image/png": "[encoded data removed]",
      "text/plain": [
       "<Figure size 432x288 with 1 Axes>"
      ]
     },
     "metadata": {
      "needs_background": "light"
     },
     "output_type": "display_data"
    }
   ],
   "source": [
    "plt.plot(company_data.Month,company_data.FaceWash, label = 'FaceWash',linestyle = '-',color = 'blue')\n",
    "plt.plot(company_data.Month,company_data.FaceCream, label = 'FaceCream',linestyle = '--',color = 'red')\n",
    "plt.plot(company_data.Month,company_data.ToothPaste, label = 'ToothPaste',linestyle = ':',color = 'green')\n",
    "plt.plot(company_data.Month,company_data.Soap, label = 'Soap',linestyle = '-.',color = 'orange')\n",
    "plt.plot(company_data.Month,company_data.Shampo, label = 'Shampo',linestyle = '-',color = 'cyan')\n",
    "plt.plot(company_data.Month,company_data.Moisturizer, label = 'Moisturizer',linestyle = '-',color = 'yellow')\n",
    "plt.legend(loc = 'lower right',bbox_to_anchor = (1.35,0.25))"
   ]
  },
  {
   "cell_type": "markdown",
   "metadata": {},
   "source": [
    "### 85. Create Bar Chart for soap of all months and Save the chart in folder"
   ]
  },
  {
   "cell_type": "code",
   "execution_count": 229,
   "metadata": {},
   "outputs": [
    {
     "data": {
      "image/png": "[encoded data removed]",
      "text/plain": [
       "<Figure size 720x360 with 1 Axes>"
      ]
     },
     "metadata": {
      "needs_background": "light"
     },
     "output_type": "display_data"
    }
   ],
   "source": [
    "plt.figure(figsize=(10,5))\n",
    "sns.barplot(y = company_data.Month,x = company_data.Soap)\n",
    "plt.savefig('Z:/bar', bbox_inches='tight', dpi=150)\n",
    "plt.show()"
   ]
  },
  {
   "cell_type": "markdown",
   "metadata": {},
   "source": [
    "### 86. Create Stacked Bar Chart for Soap, Shampo, ToothPaste for each month\n",
    "The bar chart should display the number of units sold per month for each product. Add a separate bar for each product in the same chart."
   ]
  },
  {
   "cell_type": "code",
   "execution_count": 258,
   "metadata": {},
   "outputs": [],
   "source": [
    "st = company_data.groupby('Month').sum()[['Soap','Shampo','ToothPaste']]"
   ]
  },
  {
   "cell_type": "code",
   "execution_count": 293,
   "metadata": {},
   "outputs": [
    {
     "data": {
      "text/plain": [
       "<matplotlib.legend.Legend at 0x1ca290d4700>"
      ]
     },
     "execution_count": 293,
     "metadata": {},
     "output_type": "execute_result"
    },
    {
     "data": {
      "image/png": "[encoded data removed]",
      "text/plain": [
       "<Figure size 720x504 with 1 Axes>"
      ]
     },
     "metadata": {
      "needs_background": "light"
     },
     "output_type": "display_data"
    }
   ],
   "source": [
    "ax = st.set_index(st.index).T.plot.bar(stacked=True, figsize=(10, 7))\n",
    "plt.legend(loc = 'right',bbox_to_anchor = (1.35,0.25))"
   ]
  },
  {
   "cell_type": "markdown",
   "metadata": {},
   "source": [
    "### 87. Create Histogram for Total Revenue"
   ]
  },
  {
   "cell_type": "code",
   "execution_count": 279,
   "metadata": {},
   "outputs": [
    {
     "data": {
      "text/plain": [
       "<AxesSubplot:>"
      ]
     },
     "execution_count": 279,
     "metadata": {},
     "output_type": "execute_result"
    },
    {
     "data": {
      "image/png": "[encoded data removed]",
      "text/plain": [
       "<Figure size 432x288 with 1 Axes>"
      ]
     },
     "metadata": {
      "needs_background": "light"
     },
     "output_type": "display_data"
    }
   ],
   "source": [
    "company_data.Total_Revenue.hist()"
   ]
  },
  {
   "cell_type": "markdown",
   "metadata": {},
   "source": [
    "### 88. Calculate total sales data (quantity) for 2019 for each product and show it using a Pie chart. Understand percentage contribution from each product"
   ]
  },
  {
   "cell_type": "code",
   "execution_count": 390,
   "metadata": {},
   "outputs": [],
   "source": [
    "l1 = []\n",
    "l1.extend(company_data.groupby(company_data.Month.dt.year).sum().iloc[:,0:6].values)"
   ]
  },
  {
   "cell_type": "code",
   "execution_count": 403,
   "metadata": {},
   "outputs": [],
   "source": [
    "name = company_data.groupby(company_data.Month.dt.year).sum().iloc[:,0:6].columns"
   ]
  },
  {
   "cell_type": "code",
   "execution_count": 393,
   "metadata": {},
   "outputs": [],
   "source": [
    "l1 = l1[0]"
   ]
  },
  {
   "cell_type": "code",
   "execution_count": 410,
   "metadata": {},
   "outputs": [
    {
     "data": {
      "image/png": "[encoded data removed]",
      "text/plain": [
       "<Figure size 432x288 with 1 Axes>"
      ]
     },
     "metadata": {},
     "output_type": "display_data"
    }
   ],
   "source": [
    "plt.pie(l1,labels=name,autopct='%1.1f%%',radius = 1.75)\n",
    "plt.show()"
   ]
  },
  {
   "cell_type": "markdown",
   "metadata": {},
   "source": [
    "### 89. Create line plots for Soap & Facewash of all months in a single plot using Subplot"
   ]
  },
  {
   "cell_type": "code",
   "execution_count": 421,
   "metadata": {},
   "outputs": [
    {
     "data": {
      "text/plain": [
       "[<matplotlib.lines.Line2D at 0x1ca295b73a0>]"
      ]
     },
     "execution_count": 421,
     "metadata": {},
     "output_type": "execute_result"
    },
    {
     "data": {
      "image/png": "[encoded data removed]",
      "text/plain": [
       "<Figure size 720x360 with 2 Axes>"
      ]
     },
     "metadata": {
      "needs_background": "light"
     },
     "output_type": "display_data"
    }
   ],
   "source": [
    "fig, ax = plt.subplots(1,2,figsize = (10,5))\n",
    "ax[0].plot(company_data.Soap)\n",
    "ax[1].plot(company_data.FaceWash)"
   ]
  },
  {
   "cell_type": "markdown",
   "metadata": {},
   "source": [
    "### 90. Create Box Plot for Total Profit variable"
   ]
  },
  {
   "cell_type": "code",
   "execution_count": 423,
   "metadata": {},
   "outputs": [
    {
     "data": {
      "text/plain": [
       "<AxesSubplot:>"
      ]
     },
     "execution_count": 423,
     "metadata": {},
     "output_type": "execute_result"
    },
    {
     "data": {
      "image/png": "[encoded data removed]",
      "text/plain": [
       "<Figure size 432x288 with 1 Axes>"
      ]
     },
     "metadata": {
      "needs_background": "light"
     },
     "output_type": "display_data"
    }
   ],
   "source": [
    "company_data.Total_Profit.plot(kind = 'box')"
   ]
  }
 ],
 "metadata": {
  "kernelspec": {
   "display_name": "Python 3 (ipykernel)",
   "language": "python",
   "name": "python3"
  },
  "language_info": {
   "codemirror_mode": {
    "name": "ipython",
    "version": 3
   },
   "file_extension": ".py",
   "mimetype": "text/x-python",
   "name": "python",
   "nbconvert_exporter": "python",
   "pygments_lexer": "ipython3",
   "version": "3.9.7"
  },
  "varInspector": {
   "cols": {
    "lenName": 16,
    "lenType": 16,
    "lenVar": 40
   },
   "kernels_config": {
    "python": {
     "delete_cmd_postfix": "",
     "delete_cmd_prefix": "del ",
     "library": "var_list.py",
     "varRefreshCmd": "print(var_dic_list())"
    },
    "r": {
     "delete_cmd_postfix": ") ",
     "delete_cmd_prefix": "rm(",
     "library": "var_list.r",
     "varRefreshCmd": "cat(var_dic_list()) "
    }
   },
   "types_to_exclude": [
    "module",
    "function",
    "builtin_function_or_method",
    "instance",
    "_Feature"
   ],
   "window_display": false
  }
 },
 "nbformat": 4,
 "nbformat_minor": 2
}
